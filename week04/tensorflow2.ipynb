{
 "cells": [
  {
   "cell_type": "markdown",
   "metadata": {},
   "source": [
    "![](https://www.gstatic.com/devrel-devsite/v2355ed73ae6b243a36832e70498f2cd0b3f352ff30481ebdfdc56826b566bf8a/tensorflow/images/lockup.svg)\n",
    "\n",
    "До сегодняшнего дня мы собирали различные довольно простые модели в высокоуровневом API для [tensorflow](https://www.tensorflow.org/) под названием Keras. Сегодня, наконец, пришло время поиграться с голым ~~королём~~ функционалом библиотеки и посмотреть, как в нём собираются и обучаются самые простые модели. "
   ]
  },
  {
   "cell_type": "code",
   "execution_count": 3,
   "metadata": {},
   "outputs": [],
   "source": [
    "import numpy as np"
   ]
  },
  {
   "cell_type": "code",
   "execution_count": 4,
   "metadata": {},
   "outputs": [
    {
     "data": {
      "text/plain": [
       "'2.1.0'"
      ]
     },
     "execution_count": 4,
     "metadata": {},
     "output_type": "execute_result"
    }
   ],
   "source": [
    "import tensorflow as tf\n",
    "tf.__version__  # ОУУУУ ЩИИИИТ, ВТОРАЯ ВЕРСИЯ!!! АААААААААААА"
   ]
  },
  {
   "cell_type": "markdown",
   "metadata": {},
   "source": [
    "# 0. Tensoflow teaser\n",
    "\n",
    "Давайте реализуем на `numpy` и на `tensorflow` функцию для поиска суммы квадратов первых $N$ чисел и посмотрим насколько быстро эти функции работают."
   ]
  },
  {
   "cell_type": "code",
   "execution_count": 5,
   "metadata": {},
   "outputs": [],
   "source": [
    "def np_sum_squares(N):\n",
    "    return np.sum(np.arange(N)**2)"
   ]
  },
  {
   "cell_type": "code",
   "execution_count": 6,
   "metadata": {
    "scrolled": true
   },
   "outputs": [
    {
     "name": "stdout",
     "output_type": "stream",
     "text": [
      "479 ms ± 48.8 ms per loop (mean ± std. dev. of 7 runs, 1 loop each)\n"
     ]
    }
   ],
   "source": [
    "%%timeit\n",
    "N = 10**8\n",
    "np_sum_squares(N)"
   ]
  },
  {
   "cell_type": "markdown",
   "metadata": {},
   "source": [
    "Tensorflow из-за того, что мы сначала задаём структуру вычислений, а после осуществляем их. Работает медленнее, чем numpy."
   ]
  },
  {
   "cell_type": "code",
   "execution_count": 7,
   "metadata": {},
   "outputs": [],
   "source": [
    "def tf_sum_squares(N):\n",
    "    N = tf.constant(N, dtype='int64')\n",
    "    return tf.reduce_sum((tf.range(N)**2))"
   ]
  },
  {
   "cell_type": "code",
   "execution_count": 8,
   "metadata": {},
   "outputs": [
    {
     "name": "stdout",
     "output_type": "stream",
     "text": [
      "624 ms ± 64.6 ms per loop (mean ± std. dev. of 7 runs, 1 loop each)\n"
     ]
    }
   ],
   "source": [
    "%%timeit\n",
    "N = 10**8\n",
    "tf_sum_squares(N)"
   ]
  },
  {
   "cell_type": "code",
   "execution_count": 12,
   "metadata": {},
   "outputs": [
    {
     "data": {
      "text/plain": [
       "<tf.Tensor: shape=(), dtype=int64, numpy=10>"
      ]
     },
     "execution_count": 12,
     "metadata": {},
     "output_type": "execute_result"
    }
   ],
   "source": [
    "N=10\n",
    "tf.constant(N, dtype='int64')"
   ]
  },
  {
   "cell_type": "markdown",
   "metadata": {},
   "source": [
    "Более того, когда вы уже задали свой граф вычислений и убедились, что всё работает, можно вызвать декоратор `tf.function`. [Он сделает работу заданного графа](https://www.tensorflow.org/tutorials/customization/performance) более оптимальной и ещё ускорит код. "
   ]
  },
  {
   "cell_type": "code",
   "execution_count": 9,
   "metadata": {},
   "outputs": [],
   "source": [
    "@tf.function\n",
    "def tf_sum_squares(N):\n",
    "    N = tf.constant(N, dtype='int64')\n",
    "    return tf.reduce_sum((tf.range(N)**2))"
   ]
  },
  {
   "cell_type": "code",
   "execution_count": 10,
   "metadata": {},
   "outputs": [
    {
     "name": "stdout",
     "output_type": "stream",
     "text": [
      "218 ms ± 3.68 ms per loop (mean ± std. dev. of 7 runs, 1 loop each)\n"
     ]
    }
   ],
   "source": [
    "%%timeit\n",
    "N = 10**8\n",
    "tf_sum_squares(N)"
   ]
  },
  {
   "cell_type": "code",
   "execution_count": 13,
   "metadata": {},
   "outputs": [],
   "source": [
    "import tensorflow as tf"
   ]
  },
  {
   "cell_type": "markdown",
   "metadata": {},
   "source": [
    "Если сравнивать время, то мы видим значительный прогресс в скорости вычислений даже для простой задачи. Данный прирост будет значительно большим для сложных и тяжелых по памяти рассчетов."
   ]
  },
  {
   "cell_type": "markdown",
   "metadata": {},
   "source": [
    "# 1. Тензоры и базовые операции над ними\n",
    "\n",
    "Основной объект в tensorflow - это **тензор.** Или многомерный массив чисел. Чтобы не нужно было учить кучу новых команд, tensorflow косплеит numpy. \n",
    "\n",
    "```\n",
    "    np.zeros -> tf.zeros\n",
    "    np.sin -> tf.sin\n",
    "    np.mean -> tf.reduce_mean\n",
    "    np.arange -> tf.range\n",
    "    np.cumsum -> tf.cumsum\n",
    "```\n",
    "\n",
    "Правда говоря, не совсем косплеит. Но чаще всего оказываетс довольно близок."
   ]
  },
  {
   "cell_type": "code",
   "execution_count": 14,
   "metadata": {},
   "outputs": [
    {
     "data": {
      "text/plain": [
       "<tf.Tensor: shape=(3, 4), dtype=float32, numpy=\n",
       "array([[0., 0., 0., 0.],\n",
       "       [0., 0., 0., 0.],\n",
       "       [0., 0., 0., 0.]], dtype=float32)>"
      ]
     },
     "execution_count": 14,
     "metadata": {},
     "output_type": "execute_result"
    }
   ],
   "source": [
    "# можно задать тензор из нулей\n",
    "tf.zeros([3, 4])"
   ]
  },
  {
   "cell_type": "code",
   "execution_count": 15,
   "metadata": {},
   "outputs": [
    {
     "data": {
      "text/plain": [
       "<tf.Tensor: shape=(3, 4, 2), dtype=float32, numpy=\n",
       "array([[[1., 1.],\n",
       "        [1., 1.],\n",
       "        [1., 1.],\n",
       "        [1., 1.]],\n",
       "\n",
       "       [[1., 1.],\n",
       "        [1., 1.],\n",
       "        [1., 1.],\n",
       "        [1., 1.]],\n",
       "\n",
       "       [[1., 1.],\n",
       "        [1., 1.],\n",
       "        [1., 1.],\n",
       "        [1., 1.]]], dtype=float32)>"
      ]
     },
     "execution_count": 15,
     "metadata": {},
     "output_type": "execute_result"
    }
   ],
   "source": [
    "# или из единиц, но уже более сложной размерности\n",
    "tf.ones([3, 4, 2])"
   ]
  },
  {
   "cell_type": "code",
   "execution_count": 16,
   "metadata": {},
   "outputs": [
    {
     "data": {
      "text/plain": [
       "<tf.Tensor: shape=(2, 2), dtype=float32, numpy=\n",
       "array([[-1.5481145 ,  0.76752734],\n",
       "       [-0.6150244 ,  0.8389085 ]], dtype=float32)>"
      ]
     },
     "execution_count": 16,
     "metadata": {},
     "output_type": "execute_result"
    }
   ],
   "source": [
    "# можно сгенерировать тензор из нормального распределения\n",
    "tf.random.normal([2,2])"
   ]
  },
  {
   "cell_type": "code",
   "execution_count": 17,
   "metadata": {},
   "outputs": [
    {
     "data": {
      "text/plain": [
       "<tf.Tensor: shape=(2, 2), dtype=float32, numpy=\n",
       "array([[0.5, 0.5],\n",
       "       [0.5, 0.5]], dtype=float32)>"
      ]
     },
     "execution_count": 17,
     "metadata": {},
     "output_type": "execute_result"
    }
   ],
   "source": [
    "# можно просто сделать залифку тензора какими-то числами\n",
    "tf.fill([2, 2], 0.5)"
   ]
  },
  {
   "cell_type": "code",
   "execution_count": 18,
   "metadata": {},
   "outputs": [
    {
     "data": {
      "text/plain": [
       "array([[1, 2, 3, 4],\n",
       "       [4, 3, 2, 1]])"
      ]
     },
     "execution_count": 18,
     "metadata": {},
     "output_type": "execute_result"
    }
   ],
   "source": [
    "# можно создать матрицу в numpy\n",
    "x = np.array([[1, 2, 3, 4],\n",
    "              [4, 3, 2, 1]])\n",
    "x"
   ]
  },
  {
   "cell_type": "code",
   "execution_count": 19,
   "metadata": {},
   "outputs": [
    {
     "data": {
      "text/plain": [
       "<tf.Tensor: shape=(2, 4), dtype=float32, numpy=\n",
       "array([[1., 2., 3., 4.],\n",
       "       [4., 3., 2., 1.]], dtype=float32)>"
      ]
     },
     "execution_count": 19,
     "metadata": {},
     "output_type": "execute_result"
    }
   ],
   "source": [
    "# а потом перевести её в тензор\n",
    "tf.convert_to_tensor(x, tf.float32) "
   ]
  },
  {
   "cell_type": "code",
   "execution_count": 20,
   "metadata": {},
   "outputs": [
    {
     "data": {
      "text/plain": [
       "<tf.Tensor: shape=(3, 4), dtype=int32, numpy=\n",
       "array([[ 1,  2,  3,  4],\n",
       "       [ 5,  6,  7,  8],\n",
       "       [ 9, 10, 11, 12]])>"
      ]
     },
     "execution_count": 20,
     "metadata": {},
     "output_type": "execute_result"
    }
   ],
   "source": [
    "# или можно просто сразу создать тензор \n",
    "tf.constant([[1,  2,  3,  4],\n",
    "             [5,  6,  7,  8],\n",
    "             [9, 10, 11, 12]])"
   ]
  },
  {
   "cell_type": "code",
   "execution_count": 21,
   "metadata": {},
   "outputs": [],
   "source": [
    "# наверное, стоит уточнить тип данных в тензоре\n",
    "x = tf.constant([[1,  2,  3,  4],\n",
    "                 [5,  6,  7,  8],\n",
    "                 [9, 10, 11, 12]], dtype=tf.float32)"
   ]
  },
  {
   "cell_type": "markdown",
   "metadata": {},
   "source": [
    "Все срезы, операции, размерности работают как в numpy."
   ]
  },
  {
   "cell_type": "code",
   "execution_count": 22,
   "metadata": {},
   "outputs": [
    {
     "data": {
      "text/plain": [
       "tf.float32"
      ]
     },
     "execution_count": 22,
     "metadata": {},
     "output_type": "execute_result"
    }
   ],
   "source": [
    "x.dtype"
   ]
  },
  {
   "cell_type": "code",
   "execution_count": 23,
   "metadata": {},
   "outputs": [
    {
     "data": {
      "text/plain": [
       "TensorShape([3, 4])"
      ]
     },
     "execution_count": 23,
     "metadata": {},
     "output_type": "execute_result"
    }
   ],
   "source": [
    "x.shape"
   ]
  },
  {
   "cell_type": "code",
   "execution_count": 24,
   "metadata": {},
   "outputs": [
    {
     "data": {
      "text/plain": [
       "<tf.Tensor: shape=(4,), dtype=float32, numpy=array([1., 2., 3., 4.], dtype=float32)>"
      ]
     },
     "execution_count": 24,
     "metadata": {},
     "output_type": "execute_result"
    }
   ],
   "source": [
    "x[0]"
   ]
  },
  {
   "cell_type": "code",
   "execution_count": null,
   "metadata": {},
   "outputs": [],
   "source": [
    "x[:,1]"
   ]
  },
  {
   "cell_type": "code",
   "execution_count": 27,
   "metadata": {},
   "outputs": [
    {
     "name": "stdout",
     "output_type": "stream",
     "text": [
      "200 µs ± 23 µs per loop (mean ± std. dev. of 7 runs, 1000 loops each)\n"
     ]
    }
   ],
   "source": [
    "%%timeit\n",
    "x + 10"
   ]
  },
  {
   "cell_type": "code",
   "execution_count": 31,
   "metadata": {},
   "outputs": [
    {
     "name": "stdout",
     "output_type": "stream",
     "text": [
      "174 µs ± 9.1 µs per loop (mean ± std. dev. of 7 runs, 10000 loops each)\n"
     ]
    }
   ],
   "source": [
    "%%timeit\n",
    "x + tf.constant(10,tf.float32)"
   ]
  },
  {
   "cell_type": "code",
   "execution_count": 25,
   "metadata": {},
   "outputs": [
    {
     "data": {
      "text/plain": [
       "<tf.Tensor: shape=(9,), dtype=float32, numpy=array([ 4.,  5.,  6.,  7.,  8.,  9., 10., 11., 12.], dtype=float32)>"
      ]
     },
     "execution_count": 25,
     "metadata": {},
     "output_type": "execute_result"
    }
   ],
   "source": [
    "x[x > 3]"
   ]
  },
  {
   "cell_type": "code",
   "execution_count": 36,
   "metadata": {},
   "outputs": [
    {
     "name": "stdout",
     "output_type": "stream",
     "text": [
      "4.31 µs ± 81.4 ns per loop (mean ± std. dev. of 7 runs, 100000 loops each)\n"
     ]
    }
   ],
   "source": [
    "%%timeit\n",
    "x.numpy()+np.array([10])"
   ]
  },
  {
   "cell_type": "code",
   "execution_count": 37,
   "metadata": {},
   "outputs": [],
   "source": [
    "y = tf.constant([[12, 11, 10, 9],\n",
    "                  [8, 7, 6, 5],\n",
    "                  [4, 3, 2, 1]], dtype=tf.float32)"
   ]
  },
  {
   "cell_type": "code",
   "execution_count": 38,
   "metadata": {},
   "outputs": [
    {
     "data": {
      "text/plain": [
       "<tf.Tensor: shape=(3, 4), dtype=float32, numpy=\n",
       "array([[13., 13., 13., 13.],\n",
       "       [13., 13., 13., 13.],\n",
       "       [13., 13., 13., 13.]], dtype=float32)>"
      ]
     },
     "execution_count": 38,
     "metadata": {},
     "output_type": "execute_result"
    }
   ],
   "source": [
    "x + y"
   ]
  },
  {
   "cell_type": "code",
   "execution_count": 39,
   "metadata": {},
   "outputs": [
    {
     "data": {
      "text/plain": [
       "<tf.Tensor: shape=(3, 4), dtype=float32, numpy=\n",
       "array([[1.0000000e+00, 2.0480000e+03, 5.9049000e+04, 2.6214398e+05],\n",
       "       [3.9062500e+05, 2.7993600e+05, 1.1764901e+05, 3.2768000e+04],\n",
       "       [6.5610005e+03, 9.9999994e+02, 1.2100000e+02, 1.2000000e+01]],\n",
       "      dtype=float32)>"
      ]
     },
     "execution_count": 39,
     "metadata": {},
     "output_type": "execute_result"
    }
   ],
   "source": [
    "x**y"
   ]
  },
  {
   "cell_type": "code",
   "execution_count": 40,
   "metadata": {},
   "outputs": [
    {
     "data": {
      "text/plain": [
       "<tf.Tensor: shape=(3, 4), dtype=float32, numpy=\n",
       "array([[2.7182817e+00, 7.3890562e+00, 2.0085537e+01, 5.4598148e+01],\n",
       "       [1.4841316e+02, 4.0342880e+02, 1.0966332e+03, 2.9809580e+03],\n",
       "       [8.1030840e+03, 2.2026467e+04, 5.9874141e+04, 1.6275480e+05]],\n",
       "      dtype=float32)>"
      ]
     },
     "execution_count": 40,
     "metadata": {},
     "output_type": "execute_result"
    }
   ],
   "source": [
    "tf.math.exp(x)"
   ]
  },
  {
   "cell_type": "code",
   "execution_count": 41,
   "metadata": {},
   "outputs": [
    {
     "data": {
      "text/plain": [
       "array([[ 1.,  2.,  3.,  4.],\n",
       "       [ 5.,  6.,  7.,  8.],\n",
       "       [ 9., 10., 11., 12.]], dtype=float32)"
      ]
     },
     "execution_count": 41,
     "metadata": {},
     "output_type": "execute_result"
    }
   ],
   "source": [
    "# Когда надоело работать с тензором, можно вернуться назад в numpy формат\n",
    "x.numpy() "
   ]
  },
  {
   "cell_type": "code",
   "execution_count": 42,
   "metadata": {},
   "outputs": [
    {
     "data": {
      "text/plain": [
       "<tf.Tensor: shape=(), dtype=string, numpy=b'hello world'>"
      ]
     },
     "execution_count": 42,
     "metadata": {},
     "output_type": "execute_result"
    }
   ],
   "source": [
    "# тип у тензоров может быть разный, но всегда один\n",
    "tf.constant(\"hello world\")"
   ]
  },
  {
   "cell_type": "markdown",
   "metadata": {},
   "source": [
    "### Задание 1:\n",
    "\n",
    "Попробуйте реализовать на tensorflow сигмоиду. \n",
    "\n",
    "$$ \\sigma(x) = \\frac{1}{1 + e^{-x}} $$"
   ]
  },
  {
   "cell_type": "code",
   "execution_count": 45,
   "metadata": {},
   "outputs": [],
   "source": [
    "# Ваше решение\n",
    "x = tf.linspace(-1.,1.,10)\n",
    "\n",
    "def sigmoid(x):\n",
    "    return 1/(1+tf.exp(-x))"
   ]
  },
  {
   "cell_type": "code",
   "execution_count": 46,
   "metadata": {},
   "outputs": [
    {
     "data": {
      "text/plain": [
       "<tf.Tensor: shape=(10,), dtype=float32, numpy=\n",
       "array([0.26894143, 0.314799  , 0.36457646, 0.41742983, 0.4722508 ,\n",
       "       0.52774924, 0.5825702 , 0.6354236 , 0.685201  , 0.7310586 ],\n",
       "      dtype=float32)>"
      ]
     },
     "execution_count": 46,
     "metadata": {},
     "output_type": "execute_result"
    }
   ],
   "source": [
    "sigmoid(x)"
   ]
  },
  {
   "cell_type": "markdown",
   "metadata": {},
   "source": [
    "### Задание 2:\n",
    "\n",
    "Попробуйте реализовать на tensorflow среднюю квадратичную ошибку. \n",
    "\n",
    "$$ \n",
    "MSE(\\hat y, y) = \\sum_{i=1}^n (\\hat y - y)^2\n",
    "$$"
   ]
  },
  {
   "cell_type": "code",
   "execution_count": 50,
   "metadata": {},
   "outputs": [],
   "source": [
    "# Ваше решение\n",
    "\n",
    "y = tf.linspace(-1.,1.,10)\n",
    "y_pred = tf.linspace(-10.,10.,10)\n",
    "mse = tf.reduce_sum(tf.pow((y-y_pred),2))"
   ]
  },
  {
   "cell_type": "code",
   "execution_count": 51,
   "metadata": {},
   "outputs": [
    {
     "data": {
      "text/plain": [
       "<tf.Tensor: shape=(), dtype=float32, numpy=330.00003>"
      ]
     },
     "execution_count": 51,
     "metadata": {},
     "output_type": "execute_result"
    }
   ],
   "source": [
    "tf.red"
   ]
  },
  {
   "cell_type": "markdown",
   "metadata": {},
   "source": [
    "------------------------------------------"
   ]
  },
  {
   "cell_type": "markdown",
   "metadata": {},
   "source": [
    "# 2. Производные да градиенты\n",
    "\n",
    "Тензорфлоу может вычислять производные и градиенты автоматически. Для этого используется [`GradientTape.`](https://www.tensorflow.org/tutorials/customization/autodiff)\n",
    "\n",
    "Он проходит по всем операциям, которые фигурируют в графе, и применяет к ним chain rule:\n",
    "\n",
    "$$ {\\partial f(g(x)) \\over \\partial x} = {\\partial f(g(x)) \\over \\partial g(x)}\\cdot {\\partial g(x) \\over \\partial x} $$\n",
    "\n",
    "Мы можем посчитать производную по любому тензору, участвующему в вычислениях."
   ]
  },
  {
   "cell_type": "code",
   "execution_count": 52,
   "metadata": {},
   "outputs": [],
   "source": [
    "x = tf.constant([0.3, 1])\n",
    "\n",
    "# опция persistent=True позволяет искать производную много раз, а не один\n",
    "with tf.GradientTape(persistent=True) as t:\n",
    "    t.watch(x)\n",
    "    y = tf.reduce_sum(x)\n",
    "    z = y**2"
   ]
  },
  {
   "cell_type": "code",
   "execution_count": 53,
   "metadata": {},
   "outputs": [
    {
     "data": {
      "text/plain": [
       "<tf.Tensor: shape=(2,), dtype=float32, numpy=array([2.6, 2.6], dtype=float32)>"
      ]
     },
     "execution_count": 53,
     "metadata": {},
     "output_type": "execute_result"
    }
   ],
   "source": [
    "t.gradient(z, x)"
   ]
  },
  {
   "cell_type": "code",
   "execution_count": 54,
   "metadata": {},
   "outputs": [
    {
     "data": {
      "text/plain": [
       "<tf.Tensor: shape=(), dtype=float32, numpy=2.6>"
      ]
     },
     "execution_count": 54,
     "metadata": {},
     "output_type": "execute_result"
    }
   ],
   "source": [
    "t.gradient(z, y)"
   ]
  },
  {
   "cell_type": "markdown",
   "metadata": {},
   "source": [
    "Нарисуем функцию и её производную на картинке :) "
   ]
  },
  {
   "cell_type": "code",
   "execution_count": 55,
   "metadata": {},
   "outputs": [
    {
     "data": {
      "image/png": "[encoded data removed]",
      "text/plain": [
       "<Figure size 432x288 with 1 Axes>"
      ]
     },
     "metadata": {
      "needs_background": "light"
     },
     "output_type": "display_data"
    }
   ],
   "source": [
    "import matplotlib.pyplot as plt\n",
    "%matplotlib inline\n",
    "\n",
    "x = tf.linspace(-3., 3., 100)\n",
    "\n",
    "with tf.GradientTape(persistent=True) as t:\n",
    "    t.watch(x)\n",
    "    y = x**2\n",
    "\n",
    "dy_dx = t.gradient(y, x)\n",
    "\n",
    "plt.plot(x, y, label=\"$x^2$\")\n",
    "plt.plot(x, dy_dx, label=r\"$\\frac{dx^2}{dx}$\")\n",
    "plt.legend();"
   ]
  },
  {
   "cell_type": "markdown",
   "metadata": {},
   "source": [
    "### Задание 3:\n",
    "\n",
    "Реализуйте расчёт градиента для функции \n",
    "\n",
    "$$\n",
    "f(w) = \\prod_{i,j} \\ln(\\ln(w_{ij} + 7) \n",
    "$$\n",
    "\n",
    "в точке `w = [[5,10], [1,2]]`"
   ]
  },
  {
   "cell_type": "code",
   "execution_count": 58,
   "metadata": {},
   "outputs": [
    {
     "name": "stdout",
     "output_type": "stream",
     "text": [
      "WARNING:tensorflow:From C:\\Users\\vvsol\\Anaconda3\\envs\\tf_gpu\\lib\\site-packages\\tensorflow_core\\python\\ops\\math_grad.py:303: setdiff1d (from tensorflow.python.ops.array_ops) is deprecated and will be removed after 2018-11-30.\n",
      "Instructions for updating:\n",
      "This op will be removed after the deprecation date. Please switch to tf.sets.difference().\n"
     ]
    }
   ],
   "source": [
    "w = tf.constant([[5,10], [1,2]], dtype=tf.float32)\n",
    "\n",
    "with tf.GradientTape() as t:\n",
    "    t.watch(w)\n",
    "    f = tf.reduce_prod(tf.math.log(tf.math.log(w+7)))\n",
    "\n",
    "df_dw = t.gradient(f,w)\n",
    "\n",
    "# Ваше решение"
   ]
  },
  {
   "cell_type": "code",
   "execution_count": 59,
   "metadata": {},
   "outputs": [
    {
     "data": {
      "text/plain": [
       "<tf.Tensor: shape=(2, 2), dtype=float32, numpy=\n",
       "array([[0.0201272 , 0.01089125],\n",
       "       [0.04485611, 0.03509369]], dtype=float32)>"
      ]
     },
     "execution_count": 59,
     "metadata": {},
     "output_type": "execute_result"
    }
   ],
   "source": [
    "df_dw"
   ]
  },
  {
   "cell_type": "markdown",
   "metadata": {},
   "source": [
    "# 3. Переменные\n",
    "\n",
    "Следущий важный объект в tensorflow это **переменная.** Она представляет из себя некоторый буфер в памяти, который содержит текущие тензоры. \n",
    "\n",
    "* Переменную можно вставить в любое место графа \n",
    "* Переменные можно использовать, чтобы описать какую-то трансформацию\n",
    "* В процессе расчётов их можно изменять\n",
    "* Обычно их исползуют для описания параметров модели"
   ]
  },
  {
   "cell_type": "code",
   "execution_count": 60,
   "metadata": {},
   "outputs": [
    {
     "data": {
      "text/plain": [
       "<tf.Variable 'Variable:0' shape=() dtype=float32, numpy=0.5>"
      ]
     },
     "execution_count": 60,
     "metadata": {},
     "output_type": "execute_result"
    }
   ],
   "source": [
    "w = tf.Variable(initial_value=0.5)\n",
    "w"
   ]
  },
  {
   "cell_type": "code",
   "execution_count": 61,
   "metadata": {},
   "outputs": [
    {
     "data": {
      "text/plain": [
       "array([1., 2., 3.])"
      ]
     },
     "execution_count": 61,
     "metadata": {},
     "output_type": "execute_result"
    }
   ],
   "source": [
    "x = np.array([1,2,3], dtype=float)\n",
    "x"
   ]
  },
  {
   "cell_type": "code",
   "execution_count": 62,
   "metadata": {},
   "outputs": [
    {
     "data": {
      "text/plain": [
       "<tf.Tensor: shape=(3,), dtype=float32, numpy=array([0.5, 1. , 1.5], dtype=float32)>"
      ]
     },
     "execution_count": 62,
     "metadata": {},
     "output_type": "execute_result"
    }
   ],
   "source": [
    "x*w"
   ]
  },
  {
   "cell_type": "markdown",
   "metadata": {},
   "source": [
    "Более того, переменные хороши тем, что Tensorflow сразу же следит за ними при вычислении производных. Ему не надо указывать с помощью команды `watch`, за каким тензором нужно приглядывать. "
   ]
  },
  {
   "cell_type": "markdown",
   "metadata": {},
   "source": [
    "### Задание 4:\n",
    "\n",
    "Реализуйте расчёт градиента для функции \n",
    "\n",
    "$$\n",
    "f(w) = \\prod_{i,j} \\ln(\\ln(w_{ij} + 7) \n",
    "$$\n",
    "\n",
    "в точке `w = [[5,10], [1,2]]`. Отличие от предыдущей задачки такое: надо задать $w$ не как тензор, а как переменную. "
   ]
  },
  {
   "cell_type": "code",
   "execution_count": 63,
   "metadata": {},
   "outputs": [],
   "source": [
    "w = tf.Variable(initial_value=[[5.,10], [1,2]])\n",
    "\n",
    "with tf.GradientTape() as t:\n",
    "    f = tf.reduce_prod(tf.math.log(tf.math.log(w+7)))\n",
    "df_dw = t.gradient(f,w)\n",
    "\n",
    "# Ваше решение"
   ]
  },
  {
   "cell_type": "code",
   "execution_count": 64,
   "metadata": {},
   "outputs": [
    {
     "data": {
      "text/plain": [
       "<tf.Tensor: shape=(2, 2), dtype=float32, numpy=\n",
       "array([[0.0201272 , 0.01089125],\n",
       "       [0.04485611, 0.03509369]], dtype=float32)>"
      ]
     },
     "execution_count": 64,
     "metadata": {},
     "output_type": "execute_result"
    }
   ],
   "source": [
    "df_dw"
   ]
  },
  {
   "cell_type": "markdown",
   "metadata": {},
   "source": [
    "------------------------------------------"
   ]
  },
  {
   "cell_type": "markdown",
   "metadata": {},
   "source": [
    "# 4. Оптимизация\n",
    "\n",
    "Итак, tf умеет искать производные, осталось научиться применять его для оптимизации. \n",
    "\n",
    "Попробуем решить глупую задачку по конвертации градусов по цельсию в градусы по фаренгейту. По данным будем пытаться восстановить формулу: \n",
    "\n",
    "$$ f = c \\times 1.8 + 32 $$"
   ]
  },
  {
   "cell_type": "code",
   "execution_count": 65,
   "metadata": {},
   "outputs": [
    {
     "name": "stdout",
     "output_type": "stream",
     "text": [
      "-40.0 degrees Celsius = -40.0 degrees Fahrenheit\n",
      "-10.0 degrees Celsius = 14.0 degrees Fahrenheit\n",
      "0.0 degrees Celsius = 32.0 degrees Fahrenheit\n",
      "8.0 degrees Celsius = 46.0 degrees Fahrenheit\n",
      "15.0 degrees Celsius = 59.0 degrees Fahrenheit\n",
      "22.0 degrees Celsius = 72.0 degrees Fahrenheit\n",
      "38.0 degrees Celsius = 100.0 degrees Fahrenheit\n"
     ]
    }
   ],
   "source": [
    "celsius    = np.array([-40, -10,  0,  8, 15, 22,  38],  dtype='float32')\n",
    "fahrenheit = np.array([-40,  14, 32, 46, 59, 72, 100],  dtype='float32')\n",
    "\n",
    "for i,c in enumerate(celsius):\n",
    "    print(\"{} degrees Celsius = {} degrees Fahrenheit\".format(c, fahrenheit[i]))"
   ]
  },
  {
   "cell_type": "code",
   "execution_count": 71,
   "metadata": {},
   "outputs": [
    {
     "data": {
      "text/plain": [
       "(array([-0.74684435], dtype=float32), array([0.45344216], dtype=float32))"
      ]
     },
     "execution_count": 71,
     "metadata": {},
     "output_type": "execute_result"
    }
   ],
   "source": [
    "# параметры модели \n",
    "a = tf.Variable(tf.random.normal([1]), name='bias')\n",
    "b = tf.Variable(tf.random.normal([1]), name='k')\n",
    "\n",
    "a.numpy(), b.numpy()"
   ]
  },
  {
   "cell_type": "code",
   "execution_count": null,
   "metadata": {},
   "outputs": [],
   "source": []
  },
  {
   "cell_type": "code",
   "execution_count": 67,
   "metadata": {},
   "outputs": [],
   "source": [
    "# Наша модель\n",
    "def linear_regression(x):\n",
    "    return a + b*x\n",
    "\n",
    "# Ошибка для модели\n",
    "def mean_square(y_pred, y_true):\n",
    "    return tf.reduce_mean((y_pred-y_true)**2)"
   ]
  },
  {
   "cell_type": "code",
   "execution_count": 68,
   "metadata": {},
   "outputs": [
    {
     "data": {
      "text/plain": [
       "array([-25.455782 ,  -6.766462 ,  -0.5366884,   4.4471307,   8.807972 ,\n",
       "        13.168814 ,  23.136452 ], dtype=float32)"
      ]
     },
     "execution_count": 68,
     "metadata": {},
     "output_type": "execute_result"
    }
   ],
   "source": [
    "linear_regression(celsius).numpy()"
   ]
  },
  {
   "cell_type": "code",
   "execution_count": 69,
   "metadata": {},
   "outputs": [
    {
     "data": {
      "text/plain": [
       "2188.0586"
      ]
     },
     "execution_count": 69,
     "metadata": {},
     "output_type": "execute_result"
    }
   ],
   "source": [
    "mean_square(linear_regression(celsius), fahrenheit).numpy()"
   ]
  },
  {
   "cell_type": "code",
   "execution_count": 70,
   "metadata": {},
   "outputs": [],
   "source": [
    "# оптимизатор \n",
    "optimizer = tf.optimizers.SGD(learning_rate=0.001)\n",
    "\n",
    "# процесс оптимизации\n",
    "def model_train(X, Y):\n",
    "\n",
    "    # находим loss и пробрасываем градиент\n",
    "    with tf.GradientTape() as g:\n",
    "        pred = linear_regression(X)\n",
    "        loss = mean_square(pred, Y)\n",
    "\n",
    "    # Вычисляем градиенты\n",
    "    gradients = g.gradient(loss, [a, b])\n",
    "    \n",
    "    # Обновляем веса a и b в ходе одной итерации спуска \n",
    "    optimizer.apply_gradients(zip(gradients, [a, b]))\n",
    "    pass"
   ]
  },
  {
   "cell_type": "code",
   "execution_count": null,
   "metadata": {},
   "outputs": [],
   "source": [
    "a"
   ]
  },
  {
   "cell_type": "code",
   "execution_count": null,
   "metadata": {},
   "outputs": [],
   "source": [
    "model_train(celsius, fahrenheit)"
   ]
  },
  {
   "cell_type": "code",
   "execution_count": null,
   "metadata": {},
   "outputs": [],
   "source": [
    "a"
   ]
  },
  {
   "cell_type": "code",
   "execution_count": 72,
   "metadata": {},
   "outputs": [
    {
     "name": "stdout",
     "output_type": "stream",
     "text": [
      "step: 0, loss: 1042.935181, a: -0.668769, b: 2.266446\n",
      "step: 100, loss: 695.853210, a: 5.034729, b: 2.025116\n",
      "step: 200, loss: 473.772156, a: 9.742136, b: 1.985389\n",
      "step: 300, loss: 322.574280, a: 13.626310, b: 1.952609\n",
      "step: 400, loss: 219.635468, a: 16.831221, b: 1.925562\n",
      "step: 500, loss: 149.552597, a: 19.475653, b: 1.903245\n",
      "step: 600, loss: 101.838844, a: 21.657614, b: 1.884831\n",
      "step: 700, loss: 69.354187, a: 23.457998, b: 1.869637\n",
      "step: 800, loss: 47.237877, a: 24.943535, b: 1.857100\n",
      "step: 900, loss: 32.180725, a: 26.169270, b: 1.846756\n",
      "step: 1000, loss: 21.929392, a: 27.180656, b: 1.838220\n",
      "step: 1100, loss: 14.950075, a: 28.015171, b: 1.831178\n",
      "step: 1200, loss: 10.198458, a: 28.703741, b: 1.825366\n",
      "step: 1300, loss: 6.963414, a: 29.271898, b: 1.820572\n",
      "step: 1400, loss: 4.760969, a: 29.740688, b: 1.816615\n",
      "step: 1500, loss: 3.261510, a: 30.127491, b: 1.813351\n",
      "step: 1600, loss: 2.240585, a: 30.446671, b: 1.810657\n",
      "step: 1700, loss: 1.545552, a: 30.710020, b: 1.808435\n",
      "step: 1800, loss: 1.072376, a: 30.927305, b: 1.806601\n",
      "step: 1900, loss: 0.750216, a: 31.106600, b: 1.805088\n"
     ]
    }
   ],
   "source": [
    "# Обучение\n",
    "epochs = 2000 # число эпох \n",
    "\n",
    "for i in range(epochs):\n",
    "    \n",
    "    # Делаем щаг градиентного спуска \n",
    "    model_train(celsius, fahrenheit)\n",
    "    \n",
    "    # Каждую сотую итерацию следим за тем, что произошло\n",
    "    if i%100 == 0:\n",
    "        y_pred = linear_regression(celsius)\n",
    "        loss_val = mean_square(y_pred, fahrenheit)\n",
    "        print(\"step: %i, loss: %f, a: %f, b: %f\" % (i, loss_val, a.numpy(), b.numpy()))"
   ]
  },
  {
   "cell_type": "code",
   "execution_count": 101,
   "metadata": {},
   "outputs": [],
   "source": [
    "class simple_model:\n",
    "    def __init__(self):\n",
    "        self.w1 = tf.Variable(tf.random.normal([1]), name='w1')\n",
    "        self.w2 = tf.Variable(tf.random.normal([1]), name='w2')\n",
    "        self.optimizer = tf.optimizers.SGD(learning_rate=0.001)\n",
    "        \n",
    "    def calc_pred(self,x):\n",
    "        pred = tf.constant(1.,tf.float32)*self.w1+self.w2*x\n",
    "#         return tf.constant(1.)/(tf.constant(1.)+pred)\n",
    "        return tf.maximum(0,pred)\n",
    "    def mean_square(y_pred, y_true):\n",
    "        return tf.reduce_mean((y_pred-y_true)**2)\n",
    "    \n",
    "    def model_train(self,X, Y):\n",
    "\n",
    "    # находим loss и пробрасываем градиент\n",
    "        with tf.GradientTape() as g:\n",
    "            pred = self.calc_pred(X)\n",
    "            loss = mean_square(pred, Y)\n",
    "\n",
    "        # Вычисляем градиенты\n",
    "        gradients = g.gradient(loss, [self.w1, self.w2])\n",
    "\n",
    "        # Обновляем веса a и b в ходе одной итерации спуска \n",
    "        optimizer.apply_gradients(zip(gradients, [self.w1, self.w2]))\n",
    "\n",
    "    "
   ]
  },
  {
   "cell_type": "code",
   "execution_count": 102,
   "metadata": {},
   "outputs": [],
   "source": [
    "x = np.array([0.,1.])\n",
    "y = np.array([1.,0.])\n"
   ]
  },
  {
   "cell_type": "code",
   "execution_count": 103,
   "metadata": {},
   "outputs": [],
   "source": []
  },
  {
   "cell_type": "code",
   "execution_count": 104,
   "metadata": {},
   "outputs": [
    {
     "name": "stdout",
     "output_type": "stream",
     "text": [
      "Текущее состояние параметров w1 = 1.96853506565094, w2 = 1.937416911125183\n",
      "Текущее состояние параметров w1 = 1.9636605978012085, w2 = 1.9335108995437622\n"
     ]
    }
   ],
   "source": [
    "print(f'Текущее состояние параметров w1 = {ss_model.w1.numpy()[0]}, w2 = {ss_model.w2.numpy()[0]}')\n",
    "ss_model.model_train(x,y)\n",
    "print(f'Текущее состояние параметров w1 = {ss_model.w1.numpy()[0]}, w2 = {ss_model.w2.numpy()[0]}')"
   ]
  },
  {
   "cell_type": "code",
   "execution_count": 106,
   "metadata": {},
   "outputs": [
    {
     "name": "stdout",
     "output_type": "stream",
     "text": [
      "Текущее состояние параметров w1 = 1.9156609773635864, w2 = 1.8949308395385742\n",
      "Текущее состояние параметров w1 = 1.9109346866607666, w2 = 1.891120195388794\n",
      "Текущее состояние параметров w1 = 1.9109346866607666, w2 = 1.891120195388794\n",
      "Текущее состояние параметров w1 = 1.9062217473983765, w2 = 1.8873181343078613\n",
      "Текущее состояние параметров w1 = 1.9062217473983765, w2 = 1.8873181343078613\n",
      "Текущее состояние параметров w1 = 1.9015220403671265, w2 = 1.8835245370864868\n",
      "Текущее состояние параметров w1 = 1.9015220403671265, w2 = 1.8835245370864868\n",
      "Текущее состояние параметров w1 = 1.896835446357727, w2 = 1.87973952293396\n",
      "Текущее состояние параметров w1 = 1.896835446357727, w2 = 1.87973952293396\n",
      "Текущее состояние параметров w1 = 1.8921620845794678, w2 = 1.8759629726409912\n",
      "Текущее состояние параметров w1 = 1.8921620845794678, w2 = 1.8759629726409912\n",
      "Текущее состояние параметров w1 = 1.887501835823059, w2 = 1.8721948862075806\n",
      "Текущее состояние параметров w1 = 1.887501835823059, w2 = 1.8721948862075806\n",
      "Текущее состояние параметров w1 = 1.8828545808792114, w2 = 1.8684351444244385\n",
      "Текущее состояние параметров w1 = 1.8828545808792114, w2 = 1.8684351444244385\n",
      "Текущее состояние параметров w1 = 1.8782204389572144, w2 = 1.8646838665008545\n",
      "Текущее состояние параметров w1 = 1.8782204389572144, w2 = 1.8646838665008545\n",
      "Текущее состояние параметров w1 = 1.8735992908477783, w2 = 1.860940933227539\n",
      "Текущее состояние параметров w1 = 1.8735992908477783, w2 = 1.860940933227539\n",
      "Текущее состояние параметров w1 = 1.8689911365509033, w2 = 1.8572063446044922\n",
      "Текущее состояние параметров w1 = 1.8689911365509033, w2 = 1.8572063446044922\n",
      "Текущее состояние параметров w1 = 1.8643959760665894, w2 = 1.8534801006317139\n",
      "Текущее состояние параметров w1 = 1.8643959760665894, w2 = 1.8534801006317139\n",
      "Текущее состояние параметров w1 = 1.8598136901855469, w2 = 1.849762201309204\n",
      "Текущее состояние параметров w1 = 1.8598136901855469, w2 = 1.849762201309204\n",
      "Текущее состояние параметров w1 = 1.8552442789077759, w2 = 1.846052646636963\n",
      "Текущее состояние параметров w1 = 1.8552442789077759, w2 = 1.846052646636963\n",
      "Текущее состояние параметров w1 = 1.8506877422332764, w2 = 1.8423513174057007\n",
      "Текущее состояние параметров w1 = 1.8506877422332764, w2 = 1.8423513174057007\n",
      "Текущее состояние параметров w1 = 1.8461439609527588, w2 = 1.838658332824707\n",
      "Текущее состояние параметров w1 = 1.8461439609527588, w2 = 1.838658332824707\n",
      "Текущее состояние параметров w1 = 1.8416130542755127, w2 = 1.8349735736846924\n",
      "Текущее состояние параметров w1 = 1.8416130542755127, w2 = 1.8349735736846924\n",
      "Текущее состояние параметров w1 = 1.8370949029922485, w2 = 1.8312970399856567\n",
      "Текущее состояние параметров w1 = 1.8370949029922485, w2 = 1.8312970399856567\n",
      "Текущее состояние параметров w1 = 1.8325893878936768, w2 = 1.8276286125183105\n",
      "Текущее состояние параметров w1 = 1.8325893878936768, w2 = 1.8276286125183105\n",
      "Текущее состояние параметров w1 = 1.828096628189087, w2 = 1.8239684104919434\n",
      "Текущее состояние параметров w1 = 1.828096628189087, w2 = 1.8239684104919434\n",
      "Текущее состояние параметров w1 = 1.8236165046691895, w2 = 1.8203163146972656\n",
      "Текущее состояние параметров w1 = 1.8236165046691895, w2 = 1.8203163146972656\n",
      "Текущее состояние параметров w1 = 1.8191488981246948, w2 = 1.8166723251342773\n",
      "Текущее состояние параметров w1 = 1.8191488981246948, w2 = 1.8166723251342773\n",
      "Текущее состояние параметров w1 = 1.8146939277648926, w2 = 1.813036561012268\n",
      "Текущее состояние параметров w1 = 1.8146939277648926, w2 = 1.813036561012268\n",
      "Текущее состояние параметров w1 = 1.8102514743804932, w2 = 1.8094087839126587\n",
      "Текущее состояние параметров w1 = 1.8102514743804932, w2 = 1.8094087839126587\n",
      "Текущее состояние параметров w1 = 1.8058215379714966, w2 = 1.8057891130447388\n",
      "Текущее состояние параметров w1 = 1.8058215379714966, w2 = 1.8057891130447388\n",
      "Текущее состояние параметров w1 = 1.8014041185379028, w2 = 1.8021775484085083\n",
      "Текущее состояние параметров w1 = 1.8014041185379028, w2 = 1.8021775484085083\n",
      "Текущее состояние параметров w1 = 1.7969990968704224, w2 = 1.7985739707946777\n",
      "Текущее состояние параметров w1 = 1.7969990968704224, w2 = 1.7985739707946777\n",
      "Текущее состояние параметров w1 = 1.7926064729690552, w2 = 1.794978380203247\n",
      "Текущее состояние параметров w1 = 1.7926064729690552, w2 = 1.794978380203247\n",
      "Текущее состояние параметров w1 = 1.7882262468338013, w2 = 1.7913907766342163\n",
      "Текущее состояние параметров w1 = 1.7882262468338013, w2 = 1.7913907766342163\n",
      "Текущее состояние параметров w1 = 1.7838584184646606, w2 = 1.7878111600875854\n",
      "Текущее состояние параметров w1 = 1.7838584184646606, w2 = 1.7878111600875854\n",
      "Текущее состояние параметров w1 = 1.7795028686523438, w2 = 1.7842395305633545\n",
      "Текущее состояние параметров w1 = 1.7795028686523438, w2 = 1.7842395305633545\n",
      "Текущее состояние параметров w1 = 1.7751595973968506, w2 = 1.7806757688522339\n",
      "Текущее состояние параметров w1 = 1.7751595973968506, w2 = 1.7806757688522339\n",
      "Текущее состояние параметров w1 = 1.7708286046981812, w2 = 1.7771198749542236\n",
      "Текущее состояние параметров w1 = 1.7708286046981812, w2 = 1.7771198749542236\n",
      "Текущее состояние параметров w1 = 1.766509771347046, w2 = 1.7735719680786133\n",
      "Текущее состояние параметров w1 = 1.766509771347046, w2 = 1.7735719680786133\n",
      "Текущее состояние параметров w1 = 1.7622032165527344, w2 = 1.7700319290161133\n",
      "Текущее состояние параметров w1 = 1.7622032165527344, w2 = 1.7700319290161133\n",
      "Текущее состояние параметров w1 = 1.757908821105957, w2 = 1.766499638557434\n",
      "Текущее состояние параметров w1 = 1.757908821105957, w2 = 1.766499638557434\n",
      "Текущее состояние параметров w1 = 1.7536264657974243, w2 = 1.7629752159118652\n",
      "Текущее состояние параметров w1 = 1.7536264657974243, w2 = 1.7629752159118652\n",
      "Текущее состояние параметров w1 = 1.7493562698364258, w2 = 1.7594586610794067\n",
      "Текущее состояние параметров w1 = 1.7493562698364258, w2 = 1.7594586610794067\n",
      "Текущее состояние параметров w1 = 1.7450981140136719, w2 = 1.755949854850769\n",
      "Текущее состояние параметров w1 = 1.7450981140136719, w2 = 1.755949854850769\n",
      "Текущее состояние параметров w1 = 1.7408519983291626, w2 = 1.7524487972259521\n",
      "Текущее состояние параметров w1 = 1.7408519983291626, w2 = 1.7524487972259521\n",
      "Текущее состояние параметров w1 = 1.7366178035736084, w2 = 1.748955488204956\n",
      "Текущее состояние параметров w1 = 1.7366178035736084, w2 = 1.748955488204956\n",
      "Текущее состояние параметров w1 = 1.7323956489562988, w2 = 1.7454699277877808\n",
      "Текущее состояние параметров w1 = 1.7323956489562988, w2 = 1.7454699277877808\n",
      "Текущее состояние параметров w1 = 1.7281854152679443, w2 = 1.7419921159744263\n",
      "Текущее состояние параметров w1 = 1.7281854152679443, w2 = 1.7419921159744263\n",
      "Текущее состояние параметров w1 = 1.723987102508545, w2 = 1.738521933555603\n",
      "Текущее состояние параметров w1 = 1.723987102508545, w2 = 1.738521933555603\n",
      "Текущее состояние параметров w1 = 1.719800591468811, w2 = 1.735059380531311\n",
      "Текущее состояние параметров w1 = 1.719800591468811, w2 = 1.735059380531311\n",
      "Текущее состояние параметров w1 = 1.7156258821487427, w2 = 1.7316045761108398\n",
      "Текущее состояние параметров w1 = 1.7156258821487427, w2 = 1.7316045761108398\n",
      "Текущее состояние параметров w1 = 1.7114629745483398, w2 = 1.7281574010849\n",
      "Текущее состояние параметров w1 = 1.7114629745483398, w2 = 1.7281574010849\n",
      "Текущее состояние параметров w1 = 1.7073118686676025, w2 = 1.7247177362442017\n",
      "Текущее состояние параметров w1 = 1.7073118686676025, w2 = 1.7247177362442017\n",
      "Текущее состояние параметров w1 = 1.7031725645065308, w2 = 1.7212857007980347\n",
      "Текущее состояние параметров w1 = 1.7031725645065308, w2 = 1.7212857007980347\n",
      "Текущее состояние параметров w1 = 1.699044942855835, w2 = 1.717861294746399\n",
      "Текущее состояние параметров w1 = 1.699044942855835, w2 = 1.717861294746399\n",
      "Текущее состояние параметров w1 = 1.6949290037155151, w2 = 1.7144443988800049\n",
      "Текущее состояние параметров w1 = 1.6949290037155151, w2 = 1.7144443988800049\n",
      "Текущее состояние параметров w1 = 1.6908247470855713, w2 = 1.7110350131988525\n",
      "Текущее состояние параметров w1 = 1.6908247470855713, w2 = 1.7110350131988525\n",
      "Текущее состояние параметров w1 = 1.6867320537567139, w2 = 1.707633137702942\n",
      "Текущее состояние параметров w1 = 1.6867320537567139, w2 = 1.707633137702942\n",
      "Текущее состояние параметров w1 = 1.6826509237289429, w2 = 1.704238772392273\n",
      "Текущее состояние параметров w1 = 1.6826509237289429, w2 = 1.704238772392273\n",
      "Текущее состояние параметров w1 = 1.6785813570022583, w2 = 1.7008519172668457\n",
      "Текущее состояние параметров w1 = 1.6785813570022583, w2 = 1.7008519172668457\n",
      "Текущее состояние параметров w1 = 1.6745233535766602, w2 = 1.6974724531173706\n",
      "Текущее состояние параметров w1 = 1.6745233535766602, w2 = 1.6974724531173706\n",
      "Текущее состояние параметров w1 = 1.6704767942428589, w2 = 1.6941004991531372\n",
      "Текущее состояние параметров w1 = 1.6704767942428589, w2 = 1.6941004991531372\n",
      "Текущее состояние параметров w1 = 1.666441798210144, w2 = 1.690735936164856\n",
      "Текущее состояние параметров w1 = 1.666441798210144, w2 = 1.690735936164856\n",
      "Текущее состояние параметров w1 = 1.6624181270599365, w2 = 1.6873787641525269\n",
      "Текущее состояние параметров w1 = 1.6624181270599365, w2 = 1.6873787641525269\n",
      "Текущее состояние параметров w1 = 1.6584059000015259, w2 = 1.68402898311615\n",
      "Текущее состояние параметров w1 = 1.6584059000015259, w2 = 1.68402898311615\n",
      "Текущее состояние параметров w1 = 1.654405117034912, w2 = 1.680686593055725\n",
      "Текущее состояние параметров w1 = 1.654405117034912, w2 = 1.680686593055725\n",
      "Текущее состояние параметров w1 = 1.6504156589508057, w2 = 1.677351474761963\n",
      "Текущее состояние параметров w1 = 1.6504156589508057, w2 = 1.677351474761963\n",
      "Текущее состояние параметров w1 = 1.6464375257492065, w2 = 1.6740237474441528\n",
      "Текущее состояние параметров w1 = 1.6464375257492065, w2 = 1.6740237474441528\n",
      "Текущее состояние параметров w1 = 1.6424705982208252, w2 = 1.6707032918930054\n",
      "Текущее состояние параметров w1 = 1.6424705982208252, w2 = 1.6707032918930054\n",
      "Текущее состояние параметров w1 = 1.6385149955749512, w2 = 1.6673901081085205\n",
      "Текущее состояние параметров w1 = 1.6385149955749512, w2 = 1.6673901081085205\n",
      "Текущее состояние параметров w1 = 1.634570598602295, w2 = 1.6640841960906982\n",
      "Текущее состояние параметров w1 = 1.634570598602295, w2 = 1.6640841960906982\n",
      "Текущее состояние параметров w1 = 1.6306374073028564, w2 = 1.6607855558395386\n",
      "Текущее состояние параметров w1 = 1.6306374073028564, w2 = 1.6607855558395386\n",
      "Текущее состояние параметров w1 = 1.6267153024673462, w2 = 1.6574941873550415\n",
      "Текущее состояние параметров w1 = 1.6267153024673462, w2 = 1.6574941873550415\n",
      "Текущее состояние параметров w1 = 1.6228044033050537, w2 = 1.6542099714279175\n",
      "Текущее состояние параметров w1 = 1.6228044033050537, w2 = 1.6542099714279175\n",
      "Текущее состояние параметров w1 = 1.6189045906066895, w2 = 1.6509329080581665\n",
      "Текущее состояние параметров w1 = 1.6189045906066895, w2 = 1.6509329080581665\n"
     ]
    },
    {
     "name": "stdout",
     "output_type": "stream",
     "text": [
      "Текущее состояние параметров w1 = 1.6150158643722534, w2 = 1.6476631164550781\n",
      "Текущее состояние параметров w1 = 1.6150158643722534, w2 = 1.6476631164550781\n",
      "Текущее состояние параметров w1 = 1.6111382246017456, w2 = 1.6444004774093628\n",
      "Текущее состояние параметров w1 = 1.6111382246017456, w2 = 1.6444004774093628\n",
      "Текущее состояние параметров w1 = 1.6072715520858765, w2 = 1.6411449909210205\n",
      "Текущее состояние параметров w1 = 1.6072715520858765, w2 = 1.6411449909210205\n",
      "Текущее состояние параметров w1 = 1.603415846824646, w2 = 1.6378965377807617\n",
      "Текущее состояние параметров w1 = 1.603415846824646, w2 = 1.6378965377807617\n",
      "Текущее состояние параметров w1 = 1.5995711088180542, w2 = 1.634655237197876\n",
      "Текущее состояние параметров w1 = 1.5995711088180542, w2 = 1.634655237197876\n",
      "Текущее состояние параметров w1 = 1.595737338066101, w2 = 1.6314209699630737\n",
      "Текущее состояние параметров w1 = 1.595737338066101, w2 = 1.6314209699630737\n",
      "Текущее состояние параметров w1 = 1.591914415359497, w2 = 1.6281938552856445\n",
      "Текущее состояние параметров w1 = 1.591914415359497, w2 = 1.6281938552856445\n",
      "Текущее состояние параметров w1 = 1.5881023406982422, w2 = 1.6249737739562988\n",
      "Текущее состояние параметров w1 = 1.5881023406982422, w2 = 1.6249737739562988\n",
      "Текущее состояние параметров w1 = 1.5843011140823364, w2 = 1.6217607259750366\n",
      "Текущее состояние параметров w1 = 1.5843011140823364, w2 = 1.6217607259750366\n",
      "Текущее состояние параметров w1 = 1.5805107355117798, w2 = 1.618554711341858\n",
      "Текущее состояние параметров w1 = 1.5805107355117798, w2 = 1.618554711341858\n",
      "Текущее состояние параметров w1 = 1.5767312049865723, w2 = 1.6153556108474731\n",
      "Текущее состояние параметров w1 = 1.5767312049865723, w2 = 1.6153556108474731\n",
      "Текущее состояние параметров w1 = 1.5729624032974243, w2 = 1.6121635437011719\n",
      "Текущее состояние параметров w1 = 1.5729624032974243, w2 = 1.6121635437011719\n",
      "Текущее состояние параметров w1 = 1.569204330444336, w2 = 1.6089783906936646\n",
      "Текущее состояние параметров w1 = 1.569204330444336, w2 = 1.6089783906936646\n",
      "Текущее состояние параметров w1 = 1.5654569864273071, w2 = 1.6058001518249512\n",
      "Текущее состояние параметров w1 = 1.5654569864273071, w2 = 1.6058001518249512\n",
      "Текущее состояние параметров w1 = 1.5617202520370483, w2 = 1.6026289463043213\n",
      "Текущее состояние параметров w1 = 1.5617202520370483, w2 = 1.6026289463043213\n",
      "Текущее состояние параметров w1 = 1.5579941272735596, w2 = 1.5994646549224854\n",
      "Текущее состояние параметров w1 = 1.5579941272735596, w2 = 1.5994646549224854\n",
      "Текущее состояние параметров w1 = 1.5542787313461304, w2 = 1.5963071584701538\n",
      "Текущее состояние параметров w1 = 1.5542787313461304, w2 = 1.5963071584701538\n",
      "Текущее состояние параметров w1 = 1.5505738258361816, w2 = 1.5931565761566162\n",
      "Текущее состояние параметров w1 = 1.5505738258361816, w2 = 1.5931565761566162\n",
      "Текущее состояние параметров w1 = 1.546879529953003, w2 = 1.590012788772583\n",
      "Текущее состояние параметров w1 = 1.546879529953003, w2 = 1.590012788772583\n",
      "Текущее состояние параметров w1 = 1.5431957244873047, w2 = 1.5868759155273438\n",
      "Текущее состояние параметров w1 = 1.5431957244873047, w2 = 1.5868759155273438\n",
      "Текущее состояние параметров w1 = 1.539522409439087, w2 = 1.5837458372116089\n",
      "Текущее состояние параметров w1 = 1.539522409439087, w2 = 1.5837458372116089\n",
      "Текущее состояние параметров w1 = 1.5358595848083496, w2 = 1.5806225538253784\n",
      "Текущее состояние параметров w1 = 1.5358595848083496, w2 = 1.5806225538253784\n",
      "Текущее состояние параметров w1 = 1.5322072505950928, w2 = 1.5775060653686523\n",
      "Текущее состояние параметров w1 = 1.5322072505950928, w2 = 1.5775060653686523\n",
      "Текущее состояние параметров w1 = 1.5285652875900269, w2 = 1.5743963718414307\n",
      "Текущее состояние параметров w1 = 1.5285652875900269, w2 = 1.5743963718414307\n",
      "Текущее состояние параметров w1 = 1.5249338150024414, w2 = 1.5712933540344238\n",
      "Текущее состояние параметров w1 = 1.5249338150024414, w2 = 1.5712933540344238\n",
      "Текущее состояние параметров w1 = 1.5213125944137573, w2 = 1.5681971311569214\n",
      "Текущее состояние параметров w1 = 1.5213125944137573, w2 = 1.5681971311569214\n",
      "Текущее состояние параметров w1 = 1.5177017450332642, w2 = 1.5651075839996338\n",
      "Текущее состояние параметров w1 = 1.5177017450332642, w2 = 1.5651075839996338\n",
      "Текущее состояние параметров w1 = 1.514101266860962, w2 = 1.5620248317718506\n",
      "Текущее состояние параметров w1 = 1.514101266860962, w2 = 1.5620248317718506\n",
      "Текущее состояние параметров w1 = 1.510511040687561, w2 = 1.5589487552642822\n",
      "Текущее состояние параметров w1 = 1.510511040687561, w2 = 1.5589487552642822\n",
      "Текущее состояние параметров w1 = 1.5069310665130615, w2 = 1.5558793544769287\n",
      "Текущее состояние параметров w1 = 1.5069310665130615, w2 = 1.5558793544769287\n",
      "Текущее состояние параметров w1 = 1.5033613443374634, w2 = 1.5528165102005005\n",
      "Wall time: 544 ms\n"
     ]
    }
   ],
   "source": [
    "%%time\n",
    "ss_model = simple_model()\n",
    "for _ in range(100):\n",
    "    print(f'Текущее состояние параметров w1 = {ss_model.w1.numpy()[0]}, w2 = {ss_model.w2.numpy()[0]}')\n",
    "    ss_model.model_train(x,y)\n",
    "    print(f'Текущее состояние параметров w1 = {ss_model.w1.numpy()[0]}, w2 = {ss_model.w2.numpy()[0]}')\n",
    "    "
   ]
  },
  {
   "cell_type": "code",
   "execution_count": 110,
   "metadata": {},
   "outputs": [],
   "source": [
    "class simple_model_opt:\n",
    "    def __init__(self):\n",
    "        self.w1 = tf.Variable(tf.random.normal([1]), name='w1')\n",
    "        self.w2 = tf.Variable(tf.random.normal([1]), name='w2')\n",
    "        self.optimizer = tf.optimizers.SGD(learning_rate=0.001)\n",
    "        \n",
    "    def calc_pred(self,x):\n",
    "        pred = tf.constant(1.,tf.float32)*self.w1+self.w2*x\n",
    "#         return tf.constant(1.)/(tf.constant(1.)+pred)\n",
    "        return tf.maximum(0.,pred)\n",
    "\n",
    "\n",
    "    def mean_square(y_pred, y_true):\n",
    "        return tf.reduce_mean((y_pred-y_true)**2)\n",
    "    @tf.function\n",
    "    def model_train(self,X, Y):\n",
    "\n",
    "    # находим loss и пробрасываем градиент\n",
    "        with tf.GradientTape() as g:\n",
    "            pred = self.calc_pred(X)\n",
    "            loss = mean_square(pred, Y)\n",
    "\n",
    "        # Вычисляем градиенты\n",
    "        gradients = g.gradient(loss, [self.w1, self.w2])\n",
    "\n",
    "        # Обновляем веса a и b в ходе одной итерации спуска \n",
    "        optimizer.apply_gradients(zip(gradients, [self.w1, self.w2]))\n",
    "\n",
    "    "
   ]
  },
  {
   "cell_type": "code",
   "execution_count": 112,
   "metadata": {},
   "outputs": [
    {
     "name": "stdout",
     "output_type": "stream",
     "text": [
      "Текущее состояние параметров w1 = 1.1795250177383423, w2 = -1.668702244758606\n",
      "Текущее состояние параметров w1 = 1.1793454885482788, w2 = -1.668702244758606\n",
      "Текущее состояние параметров w1 = 1.1793454885482788, w2 = -1.668702244758606\n",
      "Текущее состояние параметров w1 = 1.1791661977767944, w2 = -1.668702244758606\n",
      "Текущее состояние параметров w1 = 1.1791661977767944, w2 = -1.668702244758606\n",
      "Текущее состояние параметров w1 = 1.1789870262145996, w2 = -1.668702244758606\n",
      "Текущее состояние параметров w1 = 1.1789870262145996, w2 = -1.668702244758606\n",
      "Текущее состояние параметров w1 = 1.1788080930709839, w2 = -1.668702244758606\n",
      "Текущее состояние параметров w1 = 1.1788080930709839, w2 = -1.668702244758606\n",
      "Текущее состояние параметров w1 = 1.1786292791366577, w2 = -1.668702244758606\n",
      "Текущее состояние параметров w1 = 1.1786292791366577, w2 = -1.668702244758606\n",
      "Текущее состояние параметров w1 = 1.1784507036209106, w2 = -1.668702244758606\n",
      "Текущее состояние параметров w1 = 1.1784507036209106, w2 = -1.668702244758606\n",
      "Текущее состояние параметров w1 = 1.1782722473144531, w2 = -1.668702244758606\n",
      "Текущее состояние параметров w1 = 1.1782722473144531, w2 = -1.668702244758606\n",
      "Текущее состояние параметров w1 = 1.1780940294265747, w2 = -1.668702244758606\n",
      "Текущее состояние параметров w1 = 1.1780940294265747, w2 = -1.668702244758606\n",
      "Текущее состояние параметров w1 = 1.1779159307479858, w2 = -1.668702244758606\n",
      "Текущее состояние параметров w1 = 1.1779159307479858, w2 = -1.668702244758606\n",
      "Текущее состояние параметров w1 = 1.177738070487976, w2 = -1.668702244758606\n",
      "Текущее состояние параметров w1 = 1.177738070487976, w2 = -1.668702244758606\n",
      "Текущее состояние параметров w1 = 1.1775603294372559, w2 = -1.668702244758606\n",
      "Текущее состояние параметров w1 = 1.1775603294372559, w2 = -1.668702244758606\n",
      "Текущее состояние параметров w1 = 1.1773828268051147, w2 = -1.668702244758606\n",
      "Текущее состояние параметров w1 = 1.1773828268051147, w2 = -1.668702244758606\n",
      "Текущее состояние параметров w1 = 1.1772054433822632, w2 = -1.668702244758606\n",
      "Текущее состояние параметров w1 = 1.1772054433822632, w2 = -1.668702244758606\n",
      "Текущее состояние параметров w1 = 1.1770281791687012, w2 = -1.668702244758606\n",
      "Текущее состояние параметров w1 = 1.1770281791687012, w2 = -1.668702244758606\n",
      "Текущее состояние параметров w1 = 1.1768511533737183, w2 = -1.668702244758606\n",
      "Текущее состояние параметров w1 = 1.1768511533737183, w2 = -1.668702244758606\n",
      "Текущее состояние параметров w1 = 1.176674246788025, w2 = -1.668702244758606\n",
      "Текущее состояние параметров w1 = 1.176674246788025, w2 = -1.668702244758606\n",
      "Текущее состояние параметров w1 = 1.1764975786209106, w2 = -1.668702244758606\n",
      "Текущее состояние параметров w1 = 1.1764975786209106, w2 = -1.668702244758606\n",
      "Текущее состояние параметров w1 = 1.176321029663086, w2 = -1.668702244758606\n",
      "Текущее состояние параметров w1 = 1.176321029663086, w2 = -1.668702244758606\n",
      "Текущее состояние параметров w1 = 1.1761447191238403, w2 = -1.668702244758606\n",
      "Текущее состояние параметров w1 = 1.1761447191238403, w2 = -1.668702244758606\n",
      "Текущее состояние параметров w1 = 1.1759685277938843, w2 = -1.668702244758606\n",
      "Текущее состояние параметров w1 = 1.1759685277938843, w2 = -1.668702244758606\n",
      "Текущее состояние параметров w1 = 1.1757925748825073, w2 = -1.668702244758606\n",
      "Текущее состояние параметров w1 = 1.1757925748825073, w2 = -1.668702244758606\n",
      "Текущее состояние параметров w1 = 1.17561674118042, w2 = -1.668702244758606\n",
      "Текущее состояние параметров w1 = 1.17561674118042, w2 = -1.668702244758606\n",
      "Текущее состояние параметров w1 = 1.1754411458969116, w2 = -1.668702244758606\n",
      "Текущее состояние параметров w1 = 1.1754411458969116, w2 = -1.668702244758606\n",
      "Текущее состояние параметров w1 = 1.1752656698226929, w2 = -1.668702244758606\n",
      "Текущее состояние параметров w1 = 1.1752656698226929, w2 = -1.668702244758606\n",
      "Текущее состояние параметров w1 = 1.1750904321670532, w2 = -1.668702244758606\n",
      "Текущее состояние параметров w1 = 1.1750904321670532, w2 = -1.668702244758606\n",
      "Текущее состояние параметров w1 = 1.1749153137207031, w2 = -1.668702244758606\n",
      "Текущее состояние параметров w1 = 1.1749153137207031, w2 = -1.668702244758606\n",
      "Текущее состояние параметров w1 = 1.1747404336929321, w2 = -1.668702244758606\n",
      "Текущее состояние параметров w1 = 1.1747404336929321, w2 = -1.668702244758606\n",
      "Текущее состояние параметров w1 = 1.1745656728744507, w2 = -1.668702244758606\n",
      "Текущее состояние параметров w1 = 1.1745656728744507, w2 = -1.668702244758606\n",
      "Текущее состояние параметров w1 = 1.1743911504745483, w2 = -1.668702244758606\n",
      "Текущее состояние параметров w1 = 1.1743911504745483, w2 = -1.668702244758606\n",
      "Текущее состояние параметров w1 = 1.1742167472839355, w2 = -1.668702244758606\n",
      "Текущее состояние параметров w1 = 1.1742167472839355, w2 = -1.668702244758606\n",
      "Текущее состояние параметров w1 = 1.1740425825119019, w2 = -1.668702244758606\n",
      "Текущее состояние параметров w1 = 1.1740425825119019, w2 = -1.668702244758606\n",
      "Текущее состояние параметров w1 = 1.1738685369491577, w2 = -1.668702244758606\n",
      "Текущее состояние параметров w1 = 1.1738685369491577, w2 = -1.668702244758606\n",
      "Текущее состояние параметров w1 = 1.1736946105957031, w2 = -1.668702244758606\n",
      "Текущее состояние параметров w1 = 1.1736946105957031, w2 = -1.668702244758606\n",
      "Текущее состояние параметров w1 = 1.1735209226608276, w2 = -1.668702244758606\n",
      "Текущее состояние параметров w1 = 1.1735209226608276, w2 = -1.668702244758606\n",
      "Текущее состояние параметров w1 = 1.1733473539352417, w2 = -1.668702244758606\n",
      "Текущее состояние параметров w1 = 1.1733473539352417, w2 = -1.668702244758606\n",
      "Текущее состояние параметров w1 = 1.1731740236282349, w2 = -1.668702244758606\n",
      "Текущее состояние параметров w1 = 1.1731740236282349, w2 = -1.668702244758606\n",
      "Текущее состояние параметров w1 = 1.1730008125305176, w2 = -1.668702244758606\n",
      "Текущее состояние параметров w1 = 1.1730008125305176, w2 = -1.668702244758606\n",
      "Текущее состояние параметров w1 = 1.1728278398513794, w2 = -1.668702244758606\n",
      "Текущее состояние параметров w1 = 1.1728278398513794, w2 = -1.668702244758606\n",
      "Текущее состояние параметров w1 = 1.1726549863815308, w2 = -1.668702244758606\n",
      "Текущее состояние параметров w1 = 1.1726549863815308, w2 = -1.668702244758606\n",
      "Текущее состояние параметров w1 = 1.1724823713302612, w2 = -1.668702244758606\n",
      "Текущее состояние параметров w1 = 1.1724823713302612, w2 = -1.668702244758606\n",
      "Текущее состояние параметров w1 = 1.1723098754882812, w2 = -1.668702244758606\n",
      "Текущее состояние параметров w1 = 1.1723098754882812, w2 = -1.668702244758606\n",
      "Текущее состояние параметров w1 = 1.1721376180648804, w2 = -1.668702244758606\n",
      "Текущее состояние параметров w1 = 1.1721376180648804, w2 = -1.668702244758606\n",
      "Текущее состояние параметров w1 = 1.171965479850769, w2 = -1.668702244758606\n",
      "Текущее состояние параметров w1 = 1.171965479850769, w2 = -1.668702244758606\n",
      "Текущее состояние параметров w1 = 1.1717934608459473, w2 = -1.668702244758606\n",
      "Текущее состояние параметров w1 = 1.1717934608459473, w2 = -1.668702244758606\n",
      "Текущее состояние параметров w1 = 1.1716216802597046, w2 = -1.668702244758606\n",
      "Текущее состояние параметров w1 = 1.1716216802597046, w2 = -1.668702244758606\n",
      "Текущее состояние параметров w1 = 1.1714500188827515, w2 = -1.668702244758606\n",
      "Текущее состояние параметров w1 = 1.1714500188827515, w2 = -1.668702244758606\n",
      "Текущее состояние параметров w1 = 1.1712785959243774, w2 = -1.668702244758606\n",
      "Текущее состояние параметров w1 = 1.1712785959243774, w2 = -1.668702244758606\n",
      "Текущее состояние параметров w1 = 1.171107292175293, w2 = -1.668702244758606\n",
      "Текущее состояние параметров w1 = 1.171107292175293, w2 = -1.668702244758606\n",
      "Текущее состояние параметров w1 = 1.1709362268447876, w2 = -1.668702244758606\n",
      "Текущее состояние параметров w1 = 1.1709362268447876, w2 = -1.668702244758606\n",
      "Текущее состояние параметров w1 = 1.1707652807235718, w2 = -1.668702244758606\n",
      "Текущее состояние параметров w1 = 1.1707652807235718, w2 = -1.668702244758606\n",
      "Текущее состояние параметров w1 = 1.170594573020935, w2 = -1.668702244758606\n",
      "Текущее состояние параметров w1 = 1.170594573020935, w2 = -1.668702244758606\n",
      "Текущее состояние параметров w1 = 1.170423984527588, w2 = -1.668702244758606\n",
      "Текущее состояние параметров w1 = 1.170423984527588, w2 = -1.668702244758606\n",
      "Текущее состояние параметров w1 = 1.1702535152435303, w2 = -1.668702244758606\n",
      "Текущее состояние параметров w1 = 1.1702535152435303, w2 = -1.668702244758606\n",
      "Текущее состояние параметров w1 = 1.1700832843780518, w2 = -1.668702244758606\n",
      "Текущее состояние параметров w1 = 1.1700832843780518, w2 = -1.668702244758606\n",
      "Текущее состояние параметров w1 = 1.1699131727218628, w2 = -1.668702244758606\n",
      "Текущее состояние параметров w1 = 1.1699131727218628, w2 = -1.668702244758606\n",
      "Текущее состояние параметров w1 = 1.169743299484253, w2 = -1.668702244758606\n",
      "Текущее состояние параметров w1 = 1.169743299484253, w2 = -1.668702244758606\n",
      "Текущее состояние параметров w1 = 1.1695735454559326, w2 = -1.668702244758606\n",
      "Текущее состояние параметров w1 = 1.1695735454559326, w2 = -1.668702244758606\n",
      "Текущее состояние параметров w1 = 1.1694040298461914, w2 = -1.668702244758606\n",
      "Текущее состояние параметров w1 = 1.1694040298461914, w2 = -1.668702244758606\n",
      "Текущее состояние параметров w1 = 1.1692346334457397, w2 = -1.668702244758606\n",
      "Текущее состояние параметров w1 = 1.1692346334457397, w2 = -1.668702244758606\n",
      "Текущее состояние параметров w1 = 1.1690653562545776, w2 = -1.668702244758606\n",
      "Текущее состояние параметров w1 = 1.1690653562545776, w2 = -1.668702244758606\n",
      "Текущее состояние параметров w1 = 1.1688963174819946, w2 = -1.668702244758606\n",
      "Текущее состояние параметров w1 = 1.1688963174819946, w2 = -1.668702244758606\n",
      "Текущее состояние параметров w1 = 1.1687273979187012, w2 = -1.668702244758606\n",
      "Текущее состояние параметров w1 = 1.1687273979187012, w2 = -1.668702244758606\n",
      "Текущее состояние параметров w1 = 1.1685587167739868, w2 = -1.668702244758606\n",
      "Текущее состояние параметров w1 = 1.1685587167739868, w2 = -1.668702244758606\n",
      "Текущее состояние параметров w1 = 1.168390154838562, w2 = -1.668702244758606\n",
      "Текущее состояние параметров w1 = 1.168390154838562, w2 = -1.668702244758606\n",
      "Текущее состояние параметров w1 = 1.1682217121124268, w2 = -1.668702244758606\n",
      "Текущее состояние параметров w1 = 1.1682217121124268, w2 = -1.668702244758606\n",
      "Текущее состояние параметров w1 = 1.1680535078048706, w2 = -1.668702244758606\n",
      "Текущее состояние параметров w1 = 1.1680535078048706, w2 = -1.668702244758606\n",
      "Текущее состояние параметров w1 = 1.167885422706604, w2 = -1.668702244758606\n",
      "Текущее состояние параметров w1 = 1.167885422706604, w2 = -1.668702244758606\n",
      "Текущее состояние параметров w1 = 1.1677175760269165, w2 = -1.668702244758606\n",
      "Текущее состояние параметров w1 = 1.1677175760269165, w2 = -1.668702244758606\n",
      "Текущее состояние параметров w1 = 1.1675498485565186, w2 = -1.668702244758606\n",
      "Текущее состояние параметров w1 = 1.1675498485565186, w2 = -1.668702244758606\n",
      "Текущее состояние параметров w1 = 1.1673822402954102, w2 = -1.668702244758606\n",
      "Текущее состояние параметров w1 = 1.1673822402954102, w2 = -1.668702244758606\n",
      "Текущее состояние параметров w1 = 1.1672148704528809, w2 = -1.668702244758606\n",
      "Текущее состояние параметров w1 = 1.1672148704528809, w2 = -1.668702244758606\n",
      "Текущее состояние параметров w1 = 1.1670476198196411, w2 = -1.668702244758606\n",
      "Текущее состояние параметров w1 = 1.1670476198196411, w2 = -1.668702244758606\n",
      "Текущее состояние параметров w1 = 1.1668806076049805, w2 = -1.668702244758606\n",
      "Текущее состояние параметров w1 = 1.1668806076049805, w2 = -1.668702244758606\n",
      "Текущее состояние параметров w1 = 1.1667137145996094, w2 = -1.668702244758606\n",
      "Текущее состояние параметров w1 = 1.1667137145996094, w2 = -1.668702244758606\n",
      "Текущее состояние параметров w1 = 1.1665470600128174, w2 = -1.668702244758606\n",
      "Текущее состояние параметров w1 = 1.1665470600128174, w2 = -1.668702244758606\n",
      "Текущее состояние параметров w1 = 1.166380524635315, w2 = -1.668702244758606\n"
     ]
    },
    {
     "name": "stdout",
     "output_type": "stream",
     "text": [
      "Текущее состояние параметров w1 = 1.166380524635315, w2 = -1.668702244758606\n",
      "Текущее состояние параметров w1 = 1.166214108467102, w2 = -1.668702244758606\n",
      "Текущее состояние параметров w1 = 1.166214108467102, w2 = -1.668702244758606\n",
      "Текущее состояние параметров w1 = 1.1660479307174683, w2 = -1.668702244758606\n",
      "Текущее состояние параметров w1 = 1.1660479307174683, w2 = -1.668702244758606\n",
      "Текущее состояние параметров w1 = 1.165881872177124, w2 = -1.668702244758606\n",
      "Текущее состояние параметров w1 = 1.165881872177124, w2 = -1.668702244758606\n",
      "Текущее состояние параметров w1 = 1.1657159328460693, w2 = -1.668702244758606\n",
      "Текущее состояние параметров w1 = 1.1657159328460693, w2 = -1.668702244758606\n",
      "Текущее состояние параметров w1 = 1.1655502319335938, w2 = -1.668702244758606\n",
      "Текущее состояние параметров w1 = 1.1655502319335938, w2 = -1.668702244758606\n",
      "Текущее состояние параметров w1 = 1.1653846502304077, w2 = -1.668702244758606\n",
      "Текущее состояние параметров w1 = 1.1653846502304077, w2 = -1.668702244758606\n",
      "Текущее состояние параметров w1 = 1.1652193069458008, w2 = -1.668702244758606\n",
      "Текущее состояние параметров w1 = 1.1652193069458008, w2 = -1.668702244758606\n",
      "Текущее состояние параметров w1 = 1.1650540828704834, w2 = -1.668702244758606\n",
      "Текущее состояние параметров w1 = 1.1650540828704834, w2 = -1.668702244758606\n",
      "Текущее состояние параметров w1 = 1.1648889780044556, w2 = -1.668702244758606\n",
      "Текущее состояние параметров w1 = 1.1648889780044556, w2 = -1.668702244758606\n",
      "Текущее состояние параметров w1 = 1.1647241115570068, w2 = -1.668702244758606\n",
      "Текущее состояние параметров w1 = 1.1647241115570068, w2 = -1.668702244758606\n",
      "Текущее состояние параметров w1 = 1.1645593643188477, w2 = -1.668702244758606\n",
      "Текущее состояние параметров w1 = 1.1645593643188477, w2 = -1.668702244758606\n",
      "Текущее состояние параметров w1 = 1.1643948554992676, w2 = -1.668702244758606\n",
      "Текущее состояние параметров w1 = 1.1643948554992676, w2 = -1.668702244758606\n",
      "Текущее состояние параметров w1 = 1.164230465888977, w2 = -1.668702244758606\n",
      "Текущее состояние параметров w1 = 1.164230465888977, w2 = -1.668702244758606\n",
      "Текущее состояние параметров w1 = 1.164066195487976, w2 = -1.668702244758606\n",
      "Текущее состояние параметров w1 = 1.164066195487976, w2 = -1.668702244758606\n",
      "Текущее состояние параметров w1 = 1.1639021635055542, w2 = -1.668702244758606\n",
      "Текущее состояние параметров w1 = 1.1639021635055542, w2 = -1.668702244758606\n",
      "Текущее состояние параметров w1 = 1.1637382507324219, w2 = -1.668702244758606\n",
      "Текущее состояние параметров w1 = 1.1637382507324219, w2 = -1.668702244758606\n",
      "Текущее состояние параметров w1 = 1.163574457168579, w2 = -1.668702244758606\n",
      "Текущее состояние параметров w1 = 1.163574457168579, w2 = -1.668702244758606\n",
      "Текущее состояние параметров w1 = 1.1634109020233154, w2 = -1.668702244758606\n",
      "Текущее состояние параметров w1 = 1.1634109020233154, w2 = -1.668702244758606\n",
      "Текущее состояние параметров w1 = 1.1632474660873413, w2 = -1.668702244758606\n",
      "Текущее состояние параметров w1 = 1.1632474660873413, w2 = -1.668702244758606\n",
      "Текущее состояние параметров w1 = 1.1630842685699463, w2 = -1.668702244758606\n",
      "Текущее состояние параметров w1 = 1.1630842685699463, w2 = -1.668702244758606\n",
      "Текущее состояние параметров w1 = 1.1629211902618408, w2 = -1.668702244758606\n",
      "Текущее состояние параметров w1 = 1.1629211902618408, w2 = -1.668702244758606\n",
      "Текущее состояние параметров w1 = 1.162758231163025, w2 = -1.668702244758606\n",
      "Текущее состояние параметров w1 = 1.162758231163025, w2 = -1.668702244758606\n",
      "Текущее состояние параметров w1 = 1.162595510482788, w2 = -1.668702244758606\n",
      "Текущее состояние параметров w1 = 1.162595510482788, w2 = -1.668702244758606\n",
      "Текущее состояние параметров w1 = 1.1624329090118408, w2 = -1.668702244758606\n",
      "Wall time: 217 ms\n"
     ]
    }
   ],
   "source": [
    "%%time\n",
    "x = np.array([0.,1.],np.float32)\n",
    "y = np.array([1.,0.],np.float32)\n",
    "\n",
    "ss_model_2 = simple_model_opt()\n",
    "for _ in range(100):\n",
    "    print(f'Текущее состояние параметров w1 = {ss_model_2.w1.numpy()[0]}, w2 = {ss_model_2.w2.numpy()[0]}')\n",
    "    ss_model_2.model_train(x,y)\n",
    "    print(f'Текущее состояние параметров w1 = {ss_model_2.w1.numpy()[0]}, w2 = {ss_model_2.w2.numpy()[0]}')"
   ]
  },
  {
   "cell_type": "markdown",
   "metadata": {},
   "source": [
    "Можно сделать то же самое, но с визуализацией. "
   ]
  },
  {
   "cell_type": "code",
   "execution_count": 73,
   "metadata": {},
   "outputs": [
    {
     "ename": "KeyboardInterrupt",
     "evalue": "",
     "output_type": "error",
     "traceback": [
      "\u001b[1;31m---------------------------------------------------------------------------\u001b[0m",
      "\u001b[1;31mKeyboardInterrupt\u001b[0m                         Traceback (most recent call last)",
      "\u001b[1;32m<ipython-input-73-7dd6a8956cc8>\u001b[0m in \u001b[0;36m<module>\u001b[1;34m\u001b[0m\n\u001b[0;32m     18\u001b[0m         \u001b[0mplt\u001b[0m\u001b[1;33m.\u001b[0m\u001b[0mplot\u001b[0m\u001b[1;33m(\u001b[0m\u001b[0mass\u001b[0m\u001b[1;33m,\u001b[0m \u001b[0mbss\u001b[0m\u001b[1;33m,\u001b[0m \u001b[0mmarker\u001b[0m\u001b[1;33m=\u001b[0m\u001b[1;34m'.'\u001b[0m\u001b[1;33m)\u001b[0m\u001b[1;33m\u001b[0m\u001b[1;33m\u001b[0m\u001b[0m\n\u001b[0;32m     19\u001b[0m         \u001b[0mplt\u001b[0m\u001b[1;33m.\u001b[0m\u001b[0mscatter\u001b[0m\u001b[1;33m(\u001b[0m\u001b[1;36m32\u001b[0m\u001b[1;33m,\u001b[0m \u001b[1;36m1.8\u001b[0m\u001b[1;33m,\u001b[0m \u001b[0mc\u001b[0m\u001b[1;33m=\u001b[0m\u001b[1;34m'red'\u001b[0m\u001b[1;33m)\u001b[0m\u001b[1;33m\u001b[0m\u001b[1;33m\u001b[0m\u001b[0m\n\u001b[1;32m---> 20\u001b[1;33m         \u001b[0mplt\u001b[0m\u001b[1;33m.\u001b[0m\u001b[0mshow\u001b[0m\u001b[1;33m(\u001b[0m\u001b[1;33m)\u001b[0m\u001b[1;33m\u001b[0m\u001b[1;33m\u001b[0m\u001b[0m\n\u001b[0m\u001b[0;32m     21\u001b[0m \u001b[1;33m\u001b[0m\u001b[0m\n\u001b[0;32m     22\u001b[0m \u001b[1;33m\u001b[0m\u001b[0m\n",
      "\u001b[1;32m~\\Anaconda3\\envs\\tf_gpu\\lib\\site-packages\\matplotlib\\pyplot.py\u001b[0m in \u001b[0;36mshow\u001b[1;34m(*args, **kwargs)\u001b[0m\n\u001b[0;32m    351\u001b[0m     \"\"\"\n\u001b[0;32m    352\u001b[0m     \u001b[0m_warn_if_gui_out_of_main_thread\u001b[0m\u001b[1;33m(\u001b[0m\u001b[1;33m)\u001b[0m\u001b[1;33m\u001b[0m\u001b[1;33m\u001b[0m\u001b[0m\n\u001b[1;32m--> 353\u001b[1;33m     \u001b[1;32mreturn\u001b[0m \u001b[0m_backend_mod\u001b[0m\u001b[1;33m.\u001b[0m\u001b[0mshow\u001b[0m\u001b[1;33m(\u001b[0m\u001b[1;33m*\u001b[0m\u001b[0margs\u001b[0m\u001b[1;33m,\u001b[0m \u001b[1;33m**\u001b[0m\u001b[0mkwargs\u001b[0m\u001b[1;33m)\u001b[0m\u001b[1;33m\u001b[0m\u001b[1;33m\u001b[0m\u001b[0m\n\u001b[0m\u001b[0;32m    354\u001b[0m \u001b[1;33m\u001b[0m\u001b[0m\n\u001b[0;32m    355\u001b[0m \u001b[1;33m\u001b[0m\u001b[0m\n",
      "\u001b[1;32m~\\Anaconda3\\envs\\tf_gpu\\lib\\site-packages\\ipykernel\\pylab\\backend_inline.py\u001b[0m in \u001b[0;36mshow\u001b[1;34m(close, block)\u001b[0m\n\u001b[0;32m     41\u001b[0m             display(\n\u001b[0;32m     42\u001b[0m                 \u001b[0mfigure_manager\u001b[0m\u001b[1;33m.\u001b[0m\u001b[0mcanvas\u001b[0m\u001b[1;33m.\u001b[0m\u001b[0mfigure\u001b[0m\u001b[1;33m,\u001b[0m\u001b[1;33m\u001b[0m\u001b[1;33m\u001b[0m\u001b[0m\n\u001b[1;32m---> 43\u001b[1;33m                 \u001b[0mmetadata\u001b[0m\u001b[1;33m=\u001b[0m\u001b[0m_fetch_figure_metadata\u001b[0m\u001b[1;33m(\u001b[0m\u001b[0mfigure_manager\u001b[0m\u001b[1;33m.\u001b[0m\u001b[0mcanvas\u001b[0m\u001b[1;33m.\u001b[0m\u001b[0mfigure\u001b[0m\u001b[1;33m)\u001b[0m\u001b[1;33m\u001b[0m\u001b[1;33m\u001b[0m\u001b[0m\n\u001b[0m\u001b[0;32m     44\u001b[0m             )\n\u001b[0;32m     45\u001b[0m     \u001b[1;32mfinally\u001b[0m\u001b[1;33m:\u001b[0m\u001b[1;33m\u001b[0m\u001b[1;33m\u001b[0m\u001b[0m\n",
      "\u001b[1;32m~\\Anaconda3\\envs\\tf_gpu\\lib\\site-packages\\IPython\\core\\display.py\u001b[0m in \u001b[0;36mdisplay\u001b[1;34m(include, exclude, metadata, transient, display_id, *objs, **kwargs)\u001b[0m\n\u001b[0;32m    311\u001b[0m             \u001b[0mpublish_display_data\u001b[0m\u001b[1;33m(\u001b[0m\u001b[0mdata\u001b[0m\u001b[1;33m=\u001b[0m\u001b[0mobj\u001b[0m\u001b[1;33m,\u001b[0m \u001b[0mmetadata\u001b[0m\u001b[1;33m=\u001b[0m\u001b[0mmetadata\u001b[0m\u001b[1;33m,\u001b[0m \u001b[1;33m**\u001b[0m\u001b[0mkwargs\u001b[0m\u001b[1;33m)\u001b[0m\u001b[1;33m\u001b[0m\u001b[1;33m\u001b[0m\u001b[0m\n\u001b[0;32m    312\u001b[0m         \u001b[1;32melse\u001b[0m\u001b[1;33m:\u001b[0m\u001b[1;33m\u001b[0m\u001b[1;33m\u001b[0m\u001b[0m\n\u001b[1;32m--> 313\u001b[1;33m             \u001b[0mformat_dict\u001b[0m\u001b[1;33m,\u001b[0m \u001b[0mmd_dict\u001b[0m \u001b[1;33m=\u001b[0m \u001b[0mformat\u001b[0m\u001b[1;33m(\u001b[0m\u001b[0mobj\u001b[0m\u001b[1;33m,\u001b[0m \u001b[0minclude\u001b[0m\u001b[1;33m=\u001b[0m\u001b[0minclude\u001b[0m\u001b[1;33m,\u001b[0m \u001b[0mexclude\u001b[0m\u001b[1;33m=\u001b[0m\u001b[0mexclude\u001b[0m\u001b[1;33m)\u001b[0m\u001b[1;33m\u001b[0m\u001b[1;33m\u001b[0m\u001b[0m\n\u001b[0m\u001b[0;32m    314\u001b[0m             \u001b[1;32mif\u001b[0m \u001b[1;32mnot\u001b[0m \u001b[0mformat_dict\u001b[0m\u001b[1;33m:\u001b[0m\u001b[1;33m\u001b[0m\u001b[1;33m\u001b[0m\u001b[0m\n\u001b[0;32m    315\u001b[0m                 \u001b[1;31m# nothing to display (e.g. _ipython_display_ took over)\u001b[0m\u001b[1;33m\u001b[0m\u001b[1;33m\u001b[0m\u001b[1;33m\u001b[0m\u001b[0m\n",
      "\u001b[1;32m~\\Anaconda3\\envs\\tf_gpu\\lib\\site-packages\\IPython\\core\\formatters.py\u001b[0m in \u001b[0;36mformat\u001b[1;34m(self, obj, include, exclude)\u001b[0m\n\u001b[0;32m    178\u001b[0m             \u001b[0mmd\u001b[0m \u001b[1;33m=\u001b[0m \u001b[1;32mNone\u001b[0m\u001b[1;33m\u001b[0m\u001b[1;33m\u001b[0m\u001b[0m\n\u001b[0;32m    179\u001b[0m             \u001b[1;32mtry\u001b[0m\u001b[1;33m:\u001b[0m\u001b[1;33m\u001b[0m\u001b[1;33m\u001b[0m\u001b[0m\n\u001b[1;32m--> 180\u001b[1;33m                 \u001b[0mdata\u001b[0m \u001b[1;33m=\u001b[0m \u001b[0mformatter\u001b[0m\u001b[1;33m(\u001b[0m\u001b[0mobj\u001b[0m\u001b[1;33m)\u001b[0m\u001b[1;33m\u001b[0m\u001b[1;33m\u001b[0m\u001b[0m\n\u001b[0m\u001b[0;32m    181\u001b[0m             \u001b[1;32mexcept\u001b[0m\u001b[1;33m:\u001b[0m\u001b[1;33m\u001b[0m\u001b[1;33m\u001b[0m\u001b[0m\n\u001b[0;32m    182\u001b[0m                 \u001b[1;31m# FIXME: log the exception\u001b[0m\u001b[1;33m\u001b[0m\u001b[1;33m\u001b[0m\u001b[1;33m\u001b[0m\u001b[0m\n",
      "\u001b[1;32m<decorator-gen-2>\u001b[0m in \u001b[0;36m__call__\u001b[1;34m(self, obj)\u001b[0m\n",
      "\u001b[1;32m~\\Anaconda3\\envs\\tf_gpu\\lib\\site-packages\\IPython\\core\\formatters.py\u001b[0m in \u001b[0;36mcatch_format_error\u001b[1;34m(method, self, *args, **kwargs)\u001b[0m\n\u001b[0;32m    222\u001b[0m     \u001b[1;34m\"\"\"show traceback on failed format call\"\"\"\u001b[0m\u001b[1;33m\u001b[0m\u001b[1;33m\u001b[0m\u001b[0m\n\u001b[0;32m    223\u001b[0m     \u001b[1;32mtry\u001b[0m\u001b[1;33m:\u001b[0m\u001b[1;33m\u001b[0m\u001b[1;33m\u001b[0m\u001b[0m\n\u001b[1;32m--> 224\u001b[1;33m         \u001b[0mr\u001b[0m \u001b[1;33m=\u001b[0m \u001b[0mmethod\u001b[0m\u001b[1;33m(\u001b[0m\u001b[0mself\u001b[0m\u001b[1;33m,\u001b[0m \u001b[1;33m*\u001b[0m\u001b[0margs\u001b[0m\u001b[1;33m,\u001b[0m \u001b[1;33m**\u001b[0m\u001b[0mkwargs\u001b[0m\u001b[1;33m)\u001b[0m\u001b[1;33m\u001b[0m\u001b[1;33m\u001b[0m\u001b[0m\n\u001b[0m\u001b[0;32m    225\u001b[0m     \u001b[1;32mexcept\u001b[0m \u001b[0mNotImplementedError\u001b[0m\u001b[1;33m:\u001b[0m\u001b[1;33m\u001b[0m\u001b[1;33m\u001b[0m\u001b[0m\n\u001b[0;32m    226\u001b[0m         \u001b[1;31m# don't warn on NotImplementedErrors\u001b[0m\u001b[1;33m\u001b[0m\u001b[1;33m\u001b[0m\u001b[1;33m\u001b[0m\u001b[0m\n",
      "\u001b[1;32m~\\Anaconda3\\envs\\tf_gpu\\lib\\site-packages\\IPython\\core\\formatters.py\u001b[0m in \u001b[0;36m__call__\u001b[1;34m(self, obj)\u001b[0m\n\u001b[0;32m    339\u001b[0m                 \u001b[1;32mpass\u001b[0m\u001b[1;33m\u001b[0m\u001b[1;33m\u001b[0m\u001b[0m\n\u001b[0;32m    340\u001b[0m             \u001b[1;32melse\u001b[0m\u001b[1;33m:\u001b[0m\u001b[1;33m\u001b[0m\u001b[1;33m\u001b[0m\u001b[0m\n\u001b[1;32m--> 341\u001b[1;33m                 \u001b[1;32mreturn\u001b[0m \u001b[0mprinter\u001b[0m\u001b[1;33m(\u001b[0m\u001b[0mobj\u001b[0m\u001b[1;33m)\u001b[0m\u001b[1;33m\u001b[0m\u001b[1;33m\u001b[0m\u001b[0m\n\u001b[0m\u001b[0;32m    342\u001b[0m             \u001b[1;31m# Finally look for special method names\u001b[0m\u001b[1;33m\u001b[0m\u001b[1;33m\u001b[0m\u001b[1;33m\u001b[0m\u001b[0m\n\u001b[0;32m    343\u001b[0m             \u001b[0mmethod\u001b[0m \u001b[1;33m=\u001b[0m \u001b[0mget_real_method\u001b[0m\u001b[1;33m(\u001b[0m\u001b[0mobj\u001b[0m\u001b[1;33m,\u001b[0m \u001b[0mself\u001b[0m\u001b[1;33m.\u001b[0m\u001b[0mprint_method\u001b[0m\u001b[1;33m)\u001b[0m\u001b[1;33m\u001b[0m\u001b[1;33m\u001b[0m\u001b[0m\n",
      "\u001b[1;32m~\\Anaconda3\\envs\\tf_gpu\\lib\\site-packages\\IPython\\core\\pylabtools.py\u001b[0m in \u001b[0;36m<lambda>\u001b[1;34m(fig)\u001b[0m\n\u001b[0;32m    246\u001b[0m \u001b[1;33m\u001b[0m\u001b[0m\n\u001b[0;32m    247\u001b[0m     \u001b[1;32mif\u001b[0m \u001b[1;34m'png'\u001b[0m \u001b[1;32min\u001b[0m \u001b[0mformats\u001b[0m\u001b[1;33m:\u001b[0m\u001b[1;33m\u001b[0m\u001b[1;33m\u001b[0m\u001b[0m\n\u001b[1;32m--> 248\u001b[1;33m         \u001b[0mpng_formatter\u001b[0m\u001b[1;33m.\u001b[0m\u001b[0mfor_type\u001b[0m\u001b[1;33m(\u001b[0m\u001b[0mFigure\u001b[0m\u001b[1;33m,\u001b[0m \u001b[1;32mlambda\u001b[0m \u001b[0mfig\u001b[0m\u001b[1;33m:\u001b[0m \u001b[0mprint_figure\u001b[0m\u001b[1;33m(\u001b[0m\u001b[0mfig\u001b[0m\u001b[1;33m,\u001b[0m \u001b[1;34m'png'\u001b[0m\u001b[1;33m,\u001b[0m \u001b[1;33m**\u001b[0m\u001b[0mkwargs\u001b[0m\u001b[1;33m)\u001b[0m\u001b[1;33m)\u001b[0m\u001b[1;33m\u001b[0m\u001b[1;33m\u001b[0m\u001b[0m\n\u001b[0m\u001b[0;32m    249\u001b[0m     \u001b[1;32mif\u001b[0m \u001b[1;34m'retina'\u001b[0m \u001b[1;32min\u001b[0m \u001b[0mformats\u001b[0m \u001b[1;32mor\u001b[0m \u001b[1;34m'png2x'\u001b[0m \u001b[1;32min\u001b[0m \u001b[0mformats\u001b[0m\u001b[1;33m:\u001b[0m\u001b[1;33m\u001b[0m\u001b[1;33m\u001b[0m\u001b[0m\n\u001b[0;32m    250\u001b[0m         \u001b[0mpng_formatter\u001b[0m\u001b[1;33m.\u001b[0m\u001b[0mfor_type\u001b[0m\u001b[1;33m(\u001b[0m\u001b[0mFigure\u001b[0m\u001b[1;33m,\u001b[0m \u001b[1;32mlambda\u001b[0m \u001b[0mfig\u001b[0m\u001b[1;33m:\u001b[0m \u001b[0mretina_figure\u001b[0m\u001b[1;33m(\u001b[0m\u001b[0mfig\u001b[0m\u001b[1;33m,\u001b[0m \u001b[1;33m**\u001b[0m\u001b[0mkwargs\u001b[0m\u001b[1;33m)\u001b[0m\u001b[1;33m)\u001b[0m\u001b[1;33m\u001b[0m\u001b[1;33m\u001b[0m\u001b[0m\n",
      "\u001b[1;32m~\\Anaconda3\\envs\\tf_gpu\\lib\\site-packages\\IPython\\core\\pylabtools.py\u001b[0m in \u001b[0;36mprint_figure\u001b[1;34m(fig, fmt, bbox_inches, **kwargs)\u001b[0m\n\u001b[0;32m    130\u001b[0m         \u001b[0mFigureCanvasBase\u001b[0m\u001b[1;33m(\u001b[0m\u001b[0mfig\u001b[0m\u001b[1;33m)\u001b[0m\u001b[1;33m\u001b[0m\u001b[1;33m\u001b[0m\u001b[0m\n\u001b[0;32m    131\u001b[0m \u001b[1;33m\u001b[0m\u001b[0m\n\u001b[1;32m--> 132\u001b[1;33m     \u001b[0mfig\u001b[0m\u001b[1;33m.\u001b[0m\u001b[0mcanvas\u001b[0m\u001b[1;33m.\u001b[0m\u001b[0mprint_figure\u001b[0m\u001b[1;33m(\u001b[0m\u001b[0mbytes_io\u001b[0m\u001b[1;33m,\u001b[0m \u001b[1;33m**\u001b[0m\u001b[0mkw\u001b[0m\u001b[1;33m)\u001b[0m\u001b[1;33m\u001b[0m\u001b[1;33m\u001b[0m\u001b[0m\n\u001b[0m\u001b[0;32m    133\u001b[0m     \u001b[0mdata\u001b[0m \u001b[1;33m=\u001b[0m \u001b[0mbytes_io\u001b[0m\u001b[1;33m.\u001b[0m\u001b[0mgetvalue\u001b[0m\u001b[1;33m(\u001b[0m\u001b[1;33m)\u001b[0m\u001b[1;33m\u001b[0m\u001b[1;33m\u001b[0m\u001b[0m\n\u001b[0;32m    134\u001b[0m     \u001b[1;32mif\u001b[0m \u001b[0mfmt\u001b[0m \u001b[1;33m==\u001b[0m \u001b[1;34m'svg'\u001b[0m\u001b[1;33m:\u001b[0m\u001b[1;33m\u001b[0m\u001b[1;33m\u001b[0m\u001b[0m\n",
      "\u001b[1;32m~\\Anaconda3\\envs\\tf_gpu\\lib\\site-packages\\matplotlib\\backend_bases.py\u001b[0m in \u001b[0;36mprint_figure\u001b[1;34m(self, filename, dpi, facecolor, edgecolor, orientation, format, bbox_inches, pad_inches, bbox_extra_artists, backend, **kwargs)\u001b[0m\n\u001b[0;32m   2215\u001b[0m                     \u001b[0morientation\u001b[0m\u001b[1;33m=\u001b[0m\u001b[0morientation\u001b[0m\u001b[1;33m,\u001b[0m\u001b[1;33m\u001b[0m\u001b[1;33m\u001b[0m\u001b[0m\n\u001b[0;32m   2216\u001b[0m                     \u001b[0mbbox_inches_restore\u001b[0m\u001b[1;33m=\u001b[0m\u001b[0m_bbox_inches_restore\u001b[0m\u001b[1;33m,\u001b[0m\u001b[1;33m\u001b[0m\u001b[1;33m\u001b[0m\u001b[0m\n\u001b[1;32m-> 2217\u001b[1;33m                     **kwargs)\n\u001b[0m\u001b[0;32m   2218\u001b[0m             \u001b[1;32mfinally\u001b[0m\u001b[1;33m:\u001b[0m\u001b[1;33m\u001b[0m\u001b[1;33m\u001b[0m\u001b[0m\n\u001b[0;32m   2219\u001b[0m                 \u001b[1;32mif\u001b[0m \u001b[0mbbox_inches\u001b[0m \u001b[1;32mand\u001b[0m \u001b[0mrestore_bbox\u001b[0m\u001b[1;33m:\u001b[0m\u001b[1;33m\u001b[0m\u001b[1;33m\u001b[0m\u001b[0m\n",
      "\u001b[1;32m~\\Anaconda3\\envs\\tf_gpu\\lib\\site-packages\\matplotlib\\backend_bases.py\u001b[0m in \u001b[0;36mwrapper\u001b[1;34m(*args, **kwargs)\u001b[0m\n\u001b[0;32m   1637\u001b[0m             \u001b[0mkwargs\u001b[0m\u001b[1;33m.\u001b[0m\u001b[0mpop\u001b[0m\u001b[1;33m(\u001b[0m\u001b[0marg\u001b[0m\u001b[1;33m)\u001b[0m\u001b[1;33m\u001b[0m\u001b[1;33m\u001b[0m\u001b[0m\n\u001b[0;32m   1638\u001b[0m \u001b[1;33m\u001b[0m\u001b[0m\n\u001b[1;32m-> 1639\u001b[1;33m         \u001b[1;32mreturn\u001b[0m \u001b[0mfunc\u001b[0m\u001b[1;33m(\u001b[0m\u001b[1;33m*\u001b[0m\u001b[0margs\u001b[0m\u001b[1;33m,\u001b[0m \u001b[1;33m**\u001b[0m\u001b[0mkwargs\u001b[0m\u001b[1;33m)\u001b[0m\u001b[1;33m\u001b[0m\u001b[1;33m\u001b[0m\u001b[0m\n\u001b[0m\u001b[0;32m   1640\u001b[0m \u001b[1;33m\u001b[0m\u001b[0m\n\u001b[0;32m   1641\u001b[0m     \u001b[1;32mreturn\u001b[0m \u001b[0mwrapper\u001b[0m\u001b[1;33m\u001b[0m\u001b[1;33m\u001b[0m\u001b[0m\n",
      "\u001b[1;32m~\\Anaconda3\\envs\\tf_gpu\\lib\\site-packages\\matplotlib\\backends\\backend_agg.py\u001b[0m in \u001b[0;36mprint_png\u001b[1;34m(self, filename_or_obj, metadata, pil_kwargs, *args)\u001b[0m\n\u001b[0;32m    507\u001b[0m             \u001b[1;33m*\u001b[0m\u001b[0mmetadata\u001b[0m\u001b[1;33m*\u001b[0m\u001b[1;33m,\u001b[0m \u001b[0mincluding\u001b[0m \u001b[0mthe\u001b[0m \u001b[0mdefault\u001b[0m \u001b[1;34m'Software'\u001b[0m \u001b[0mkey\u001b[0m\u001b[1;33m.\u001b[0m\u001b[1;33m\u001b[0m\u001b[1;33m\u001b[0m\u001b[0m\n\u001b[0;32m    508\u001b[0m         \"\"\"\n\u001b[1;32m--> 509\u001b[1;33m         \u001b[0mFigureCanvasAgg\u001b[0m\u001b[1;33m.\u001b[0m\u001b[0mdraw\u001b[0m\u001b[1;33m(\u001b[0m\u001b[0mself\u001b[0m\u001b[1;33m)\u001b[0m\u001b[1;33m\u001b[0m\u001b[1;33m\u001b[0m\u001b[0m\n\u001b[0m\u001b[0;32m    510\u001b[0m         mpl.image.imsave(\n\u001b[0;32m    511\u001b[0m             \u001b[0mfilename_or_obj\u001b[0m\u001b[1;33m,\u001b[0m \u001b[0mself\u001b[0m\u001b[1;33m.\u001b[0m\u001b[0mbuffer_rgba\u001b[0m\u001b[1;33m(\u001b[0m\u001b[1;33m)\u001b[0m\u001b[1;33m,\u001b[0m \u001b[0mformat\u001b[0m\u001b[1;33m=\u001b[0m\u001b[1;34m\"png\"\u001b[0m\u001b[1;33m,\u001b[0m \u001b[0morigin\u001b[0m\u001b[1;33m=\u001b[0m\u001b[1;34m\"upper\"\u001b[0m\u001b[1;33m,\u001b[0m\u001b[1;33m\u001b[0m\u001b[1;33m\u001b[0m\u001b[0m\n",
      "\u001b[1;32m~\\Anaconda3\\envs\\tf_gpu\\lib\\site-packages\\matplotlib\\backends\\backend_agg.py\u001b[0m in \u001b[0;36mdraw\u001b[1;34m(self)\u001b[0m\n\u001b[0;32m    405\u001b[0m              (self.toolbar._wait_cursor_for_draw_cm() if self.toolbar\n\u001b[0;32m    406\u001b[0m               else nullcontext()):\n\u001b[1;32m--> 407\u001b[1;33m             \u001b[0mself\u001b[0m\u001b[1;33m.\u001b[0m\u001b[0mfigure\u001b[0m\u001b[1;33m.\u001b[0m\u001b[0mdraw\u001b[0m\u001b[1;33m(\u001b[0m\u001b[0mself\u001b[0m\u001b[1;33m.\u001b[0m\u001b[0mrenderer\u001b[0m\u001b[1;33m)\u001b[0m\u001b[1;33m\u001b[0m\u001b[1;33m\u001b[0m\u001b[0m\n\u001b[0m\u001b[0;32m    408\u001b[0m             \u001b[1;31m# A GUI class may be need to update a window using this draw, so\u001b[0m\u001b[1;33m\u001b[0m\u001b[1;33m\u001b[0m\u001b[1;33m\u001b[0m\u001b[0m\n\u001b[0;32m    409\u001b[0m             \u001b[1;31m# don't forget to call the superclass.\u001b[0m\u001b[1;33m\u001b[0m\u001b[1;33m\u001b[0m\u001b[1;33m\u001b[0m\u001b[0m\n",
      "\u001b[1;32m~\\Anaconda3\\envs\\tf_gpu\\lib\\site-packages\\matplotlib\\artist.py\u001b[0m in \u001b[0;36mdraw_wrapper\u001b[1;34m(artist, renderer, *args, **kwargs)\u001b[0m\n\u001b[0;32m     39\u001b[0m                 \u001b[0mrenderer\u001b[0m\u001b[1;33m.\u001b[0m\u001b[0mstart_filter\u001b[0m\u001b[1;33m(\u001b[0m\u001b[1;33m)\u001b[0m\u001b[1;33m\u001b[0m\u001b[1;33m\u001b[0m\u001b[0m\n\u001b[0;32m     40\u001b[0m \u001b[1;33m\u001b[0m\u001b[0m\n\u001b[1;32m---> 41\u001b[1;33m             \u001b[1;32mreturn\u001b[0m \u001b[0mdraw\u001b[0m\u001b[1;33m(\u001b[0m\u001b[0martist\u001b[0m\u001b[1;33m,\u001b[0m \u001b[0mrenderer\u001b[0m\u001b[1;33m,\u001b[0m \u001b[1;33m*\u001b[0m\u001b[0margs\u001b[0m\u001b[1;33m,\u001b[0m \u001b[1;33m**\u001b[0m\u001b[0mkwargs\u001b[0m\u001b[1;33m)\u001b[0m\u001b[1;33m\u001b[0m\u001b[1;33m\u001b[0m\u001b[0m\n\u001b[0m\u001b[0;32m     42\u001b[0m         \u001b[1;32mfinally\u001b[0m\u001b[1;33m:\u001b[0m\u001b[1;33m\u001b[0m\u001b[1;33m\u001b[0m\u001b[0m\n\u001b[0;32m     43\u001b[0m             \u001b[1;32mif\u001b[0m \u001b[0martist\u001b[0m\u001b[1;33m.\u001b[0m\u001b[0mget_agg_filter\u001b[0m\u001b[1;33m(\u001b[0m\u001b[1;33m)\u001b[0m \u001b[1;32mis\u001b[0m \u001b[1;32mnot\u001b[0m \u001b[1;32mNone\u001b[0m\u001b[1;33m:\u001b[0m\u001b[1;33m\u001b[0m\u001b[1;33m\u001b[0m\u001b[0m\n",
      "\u001b[1;32m~\\Anaconda3\\envs\\tf_gpu\\lib\\site-packages\\matplotlib\\figure.py\u001b[0m in \u001b[0;36mdraw\u001b[1;34m(self, renderer)\u001b[0m\n\u001b[0;32m   1862\u001b[0m             \u001b[0mself\u001b[0m\u001b[1;33m.\u001b[0m\u001b[0mpatch\u001b[0m\u001b[1;33m.\u001b[0m\u001b[0mdraw\u001b[0m\u001b[1;33m(\u001b[0m\u001b[0mrenderer\u001b[0m\u001b[1;33m)\u001b[0m\u001b[1;33m\u001b[0m\u001b[1;33m\u001b[0m\u001b[0m\n\u001b[0;32m   1863\u001b[0m             mimage._draw_list_compositing_images(\n\u001b[1;32m-> 1864\u001b[1;33m                 renderer, self, artists, self.suppressComposite)\n\u001b[0m\u001b[0;32m   1865\u001b[0m \u001b[1;33m\u001b[0m\u001b[0m\n\u001b[0;32m   1866\u001b[0m             \u001b[0mrenderer\u001b[0m\u001b[1;33m.\u001b[0m\u001b[0mclose_group\u001b[0m\u001b[1;33m(\u001b[0m\u001b[1;34m'figure'\u001b[0m\u001b[1;33m)\u001b[0m\u001b[1;33m\u001b[0m\u001b[1;33m\u001b[0m\u001b[0m\n",
      "\u001b[1;32m~\\Anaconda3\\envs\\tf_gpu\\lib\\site-packages\\matplotlib\\image.py\u001b[0m in \u001b[0;36m_draw_list_compositing_images\u001b[1;34m(renderer, parent, artists, suppress_composite)\u001b[0m\n\u001b[0;32m    129\u001b[0m     \u001b[1;32mif\u001b[0m \u001b[0mnot_composite\u001b[0m \u001b[1;32mor\u001b[0m \u001b[1;32mnot\u001b[0m \u001b[0mhas_images\u001b[0m\u001b[1;33m:\u001b[0m\u001b[1;33m\u001b[0m\u001b[1;33m\u001b[0m\u001b[0m\n\u001b[0;32m    130\u001b[0m         \u001b[1;32mfor\u001b[0m \u001b[0ma\u001b[0m \u001b[1;32min\u001b[0m \u001b[0martists\u001b[0m\u001b[1;33m:\u001b[0m\u001b[1;33m\u001b[0m\u001b[1;33m\u001b[0m\u001b[0m\n\u001b[1;32m--> 131\u001b[1;33m             \u001b[0ma\u001b[0m\u001b[1;33m.\u001b[0m\u001b[0mdraw\u001b[0m\u001b[1;33m(\u001b[0m\u001b[0mrenderer\u001b[0m\u001b[1;33m)\u001b[0m\u001b[1;33m\u001b[0m\u001b[1;33m\u001b[0m\u001b[0m\n\u001b[0m\u001b[0;32m    132\u001b[0m     \u001b[1;32melse\u001b[0m\u001b[1;33m:\u001b[0m\u001b[1;33m\u001b[0m\u001b[1;33m\u001b[0m\u001b[0m\n\u001b[0;32m    133\u001b[0m         \u001b[1;31m# Composite any adjacent images together\u001b[0m\u001b[1;33m\u001b[0m\u001b[1;33m\u001b[0m\u001b[1;33m\u001b[0m\u001b[0m\n",
      "\u001b[1;32m~\\Anaconda3\\envs\\tf_gpu\\lib\\site-packages\\matplotlib\\artist.py\u001b[0m in \u001b[0;36mdraw_wrapper\u001b[1;34m(artist, renderer, *args, **kwargs)\u001b[0m\n\u001b[0;32m     39\u001b[0m                 \u001b[0mrenderer\u001b[0m\u001b[1;33m.\u001b[0m\u001b[0mstart_filter\u001b[0m\u001b[1;33m(\u001b[0m\u001b[1;33m)\u001b[0m\u001b[1;33m\u001b[0m\u001b[1;33m\u001b[0m\u001b[0m\n\u001b[0;32m     40\u001b[0m \u001b[1;33m\u001b[0m\u001b[0m\n\u001b[1;32m---> 41\u001b[1;33m             \u001b[1;32mreturn\u001b[0m \u001b[0mdraw\u001b[0m\u001b[1;33m(\u001b[0m\u001b[0martist\u001b[0m\u001b[1;33m,\u001b[0m \u001b[0mrenderer\u001b[0m\u001b[1;33m,\u001b[0m \u001b[1;33m*\u001b[0m\u001b[0margs\u001b[0m\u001b[1;33m,\u001b[0m \u001b[1;33m**\u001b[0m\u001b[0mkwargs\u001b[0m\u001b[1;33m)\u001b[0m\u001b[1;33m\u001b[0m\u001b[1;33m\u001b[0m\u001b[0m\n\u001b[0m\u001b[0;32m     42\u001b[0m         \u001b[1;32mfinally\u001b[0m\u001b[1;33m:\u001b[0m\u001b[1;33m\u001b[0m\u001b[1;33m\u001b[0m\u001b[0m\n\u001b[0;32m     43\u001b[0m             \u001b[1;32mif\u001b[0m \u001b[0martist\u001b[0m\u001b[1;33m.\u001b[0m\u001b[0mget_agg_filter\u001b[0m\u001b[1;33m(\u001b[0m\u001b[1;33m)\u001b[0m \u001b[1;32mis\u001b[0m \u001b[1;32mnot\u001b[0m \u001b[1;32mNone\u001b[0m\u001b[1;33m:\u001b[0m\u001b[1;33m\u001b[0m\u001b[1;33m\u001b[0m\u001b[0m\n",
      "\u001b[1;32m~\\Anaconda3\\envs\\tf_gpu\\lib\\site-packages\\matplotlib\\cbook\\deprecation.py\u001b[0m in \u001b[0;36mwrapper\u001b[1;34m(*inner_args, **inner_kwargs)\u001b[0m\n\u001b[0;32m    409\u001b[0m                          \u001b[1;32melse\u001b[0m \u001b[0mdeprecation_addendum\u001b[0m\u001b[1;33m,\u001b[0m\u001b[1;33m\u001b[0m\u001b[1;33m\u001b[0m\u001b[0m\n\u001b[0;32m    410\u001b[0m                 **kwargs)\n\u001b[1;32m--> 411\u001b[1;33m         \u001b[1;32mreturn\u001b[0m \u001b[0mfunc\u001b[0m\u001b[1;33m(\u001b[0m\u001b[1;33m*\u001b[0m\u001b[0minner_args\u001b[0m\u001b[1;33m,\u001b[0m \u001b[1;33m**\u001b[0m\u001b[0minner_kwargs\u001b[0m\u001b[1;33m)\u001b[0m\u001b[1;33m\u001b[0m\u001b[1;33m\u001b[0m\u001b[0m\n\u001b[0m\u001b[0;32m    412\u001b[0m \u001b[1;33m\u001b[0m\u001b[0m\n\u001b[0;32m    413\u001b[0m     \u001b[1;32mreturn\u001b[0m \u001b[0mwrapper\u001b[0m\u001b[1;33m\u001b[0m\u001b[1;33m\u001b[0m\u001b[0m\n",
      "\u001b[1;32m~\\Anaconda3\\envs\\tf_gpu\\lib\\site-packages\\matplotlib\\axes\\_base.py\u001b[0m in \u001b[0;36mdraw\u001b[1;34m(self, renderer, inframe)\u001b[0m\n\u001b[0;32m   2745\u001b[0m             \u001b[0mrenderer\u001b[0m\u001b[1;33m.\u001b[0m\u001b[0mstop_rasterizing\u001b[0m\u001b[1;33m(\u001b[0m\u001b[1;33m)\u001b[0m\u001b[1;33m\u001b[0m\u001b[1;33m\u001b[0m\u001b[0m\n\u001b[0;32m   2746\u001b[0m \u001b[1;33m\u001b[0m\u001b[0m\n\u001b[1;32m-> 2747\u001b[1;33m         \u001b[0mmimage\u001b[0m\u001b[1;33m.\u001b[0m\u001b[0m_draw_list_compositing_images\u001b[0m\u001b[1;33m(\u001b[0m\u001b[0mrenderer\u001b[0m\u001b[1;33m,\u001b[0m \u001b[0mself\u001b[0m\u001b[1;33m,\u001b[0m \u001b[0martists\u001b[0m\u001b[1;33m)\u001b[0m\u001b[1;33m\u001b[0m\u001b[1;33m\u001b[0m\u001b[0m\n\u001b[0m\u001b[0;32m   2748\u001b[0m \u001b[1;33m\u001b[0m\u001b[0m\n\u001b[0;32m   2749\u001b[0m         \u001b[0mrenderer\u001b[0m\u001b[1;33m.\u001b[0m\u001b[0mclose_group\u001b[0m\u001b[1;33m(\u001b[0m\u001b[1;34m'axes'\u001b[0m\u001b[1;33m)\u001b[0m\u001b[1;33m\u001b[0m\u001b[1;33m\u001b[0m\u001b[0m\n",
      "\u001b[1;32m~\\Anaconda3\\envs\\tf_gpu\\lib\\site-packages\\matplotlib\\image.py\u001b[0m in \u001b[0;36m_draw_list_compositing_images\u001b[1;34m(renderer, parent, artists, suppress_composite)\u001b[0m\n\u001b[0;32m    129\u001b[0m     \u001b[1;32mif\u001b[0m \u001b[0mnot_composite\u001b[0m \u001b[1;32mor\u001b[0m \u001b[1;32mnot\u001b[0m \u001b[0mhas_images\u001b[0m\u001b[1;33m:\u001b[0m\u001b[1;33m\u001b[0m\u001b[1;33m\u001b[0m\u001b[0m\n\u001b[0;32m    130\u001b[0m         \u001b[1;32mfor\u001b[0m \u001b[0ma\u001b[0m \u001b[1;32min\u001b[0m \u001b[0martists\u001b[0m\u001b[1;33m:\u001b[0m\u001b[1;33m\u001b[0m\u001b[1;33m\u001b[0m\u001b[0m\n\u001b[1;32m--> 131\u001b[1;33m             \u001b[0ma\u001b[0m\u001b[1;33m.\u001b[0m\u001b[0mdraw\u001b[0m\u001b[1;33m(\u001b[0m\u001b[0mrenderer\u001b[0m\u001b[1;33m)\u001b[0m\u001b[1;33m\u001b[0m\u001b[1;33m\u001b[0m\u001b[0m\n\u001b[0m\u001b[0;32m    132\u001b[0m     \u001b[1;32melse\u001b[0m\u001b[1;33m:\u001b[0m\u001b[1;33m\u001b[0m\u001b[1;33m\u001b[0m\u001b[0m\n\u001b[0;32m    133\u001b[0m         \u001b[1;31m# Composite any adjacent images together\u001b[0m\u001b[1;33m\u001b[0m\u001b[1;33m\u001b[0m\u001b[1;33m\u001b[0m\u001b[0m\n",
      "\u001b[1;32m~\\Anaconda3\\envs\\tf_gpu\\lib\\site-packages\\matplotlib\\artist.py\u001b[0m in \u001b[0;36mdraw_wrapper\u001b[1;34m(artist, renderer, *args, **kwargs)\u001b[0m\n\u001b[0;32m     39\u001b[0m                 \u001b[0mrenderer\u001b[0m\u001b[1;33m.\u001b[0m\u001b[0mstart_filter\u001b[0m\u001b[1;33m(\u001b[0m\u001b[1;33m)\u001b[0m\u001b[1;33m\u001b[0m\u001b[1;33m\u001b[0m\u001b[0m\n\u001b[0;32m     40\u001b[0m \u001b[1;33m\u001b[0m\u001b[0m\n\u001b[1;32m---> 41\u001b[1;33m             \u001b[1;32mreturn\u001b[0m \u001b[0mdraw\u001b[0m\u001b[1;33m(\u001b[0m\u001b[0martist\u001b[0m\u001b[1;33m,\u001b[0m \u001b[0mrenderer\u001b[0m\u001b[1;33m,\u001b[0m \u001b[1;33m*\u001b[0m\u001b[0margs\u001b[0m\u001b[1;33m,\u001b[0m \u001b[1;33m**\u001b[0m\u001b[0mkwargs\u001b[0m\u001b[1;33m)\u001b[0m\u001b[1;33m\u001b[0m\u001b[1;33m\u001b[0m\u001b[0m\n\u001b[0m\u001b[0;32m     42\u001b[0m         \u001b[1;32mfinally\u001b[0m\u001b[1;33m:\u001b[0m\u001b[1;33m\u001b[0m\u001b[1;33m\u001b[0m\u001b[0m\n\u001b[0;32m     43\u001b[0m             \u001b[1;32mif\u001b[0m \u001b[0martist\u001b[0m\u001b[1;33m.\u001b[0m\u001b[0mget_agg_filter\u001b[0m\u001b[1;33m(\u001b[0m\u001b[1;33m)\u001b[0m \u001b[1;32mis\u001b[0m \u001b[1;32mnot\u001b[0m \u001b[1;32mNone\u001b[0m\u001b[1;33m:\u001b[0m\u001b[1;33m\u001b[0m\u001b[1;33m\u001b[0m\u001b[0m\n",
      "\u001b[1;32m~\\Anaconda3\\envs\\tf_gpu\\lib\\site-packages\\matplotlib\\axis.py\u001b[0m in \u001b[0;36mdraw\u001b[1;34m(self, renderer, *args, **kwargs)\u001b[0m\n\u001b[0;32m   1162\u001b[0m         \u001b[0mrenderer\u001b[0m\u001b[1;33m.\u001b[0m\u001b[0mopen_group\u001b[0m\u001b[1;33m(\u001b[0m\u001b[0m__name__\u001b[0m\u001b[1;33m,\u001b[0m \u001b[0mgid\u001b[0m\u001b[1;33m=\u001b[0m\u001b[0mself\u001b[0m\u001b[1;33m.\u001b[0m\u001b[0mget_gid\u001b[0m\u001b[1;33m(\u001b[0m\u001b[1;33m)\u001b[0m\u001b[1;33m)\u001b[0m\u001b[1;33m\u001b[0m\u001b[1;33m\u001b[0m\u001b[0m\n\u001b[0;32m   1163\u001b[0m \u001b[1;33m\u001b[0m\u001b[0m\n\u001b[1;32m-> 1164\u001b[1;33m         \u001b[0mticks_to_draw\u001b[0m \u001b[1;33m=\u001b[0m \u001b[0mself\u001b[0m\u001b[1;33m.\u001b[0m\u001b[0m_update_ticks\u001b[0m\u001b[1;33m(\u001b[0m\u001b[1;33m)\u001b[0m\u001b[1;33m\u001b[0m\u001b[1;33m\u001b[0m\u001b[0m\n\u001b[0m\u001b[0;32m   1165\u001b[0m         ticklabelBoxes, ticklabelBoxes2 = self._get_tick_bboxes(ticks_to_draw,\n\u001b[0;32m   1166\u001b[0m                                                                 renderer)\n",
      "\u001b[1;32m~\\Anaconda3\\envs\\tf_gpu\\lib\\site-packages\\matplotlib\\axis.py\u001b[0m in \u001b[0;36m_update_ticks\u001b[1;34m(self)\u001b[0m\n\u001b[0;32m   1027\u001b[0m             \u001b[0mtick\u001b[0m\u001b[1;33m.\u001b[0m\u001b[0mset_label1\u001b[0m\u001b[1;33m(\u001b[0m\u001b[0mlabel\u001b[0m\u001b[1;33m)\u001b[0m\u001b[1;33m\u001b[0m\u001b[1;33m\u001b[0m\u001b[0m\n\u001b[0;32m   1028\u001b[0m             \u001b[0mtick\u001b[0m\u001b[1;33m.\u001b[0m\u001b[0mset_label2\u001b[0m\u001b[1;33m(\u001b[0m\u001b[0mlabel\u001b[0m\u001b[1;33m)\u001b[0m\u001b[1;33m\u001b[0m\u001b[1;33m\u001b[0m\u001b[0m\n\u001b[1;32m-> 1029\u001b[1;33m         \u001b[0mminor_locs\u001b[0m \u001b[1;33m=\u001b[0m \u001b[0mself\u001b[0m\u001b[1;33m.\u001b[0m\u001b[0mget_minorticklocs\u001b[0m\u001b[1;33m(\u001b[0m\u001b[1;33m)\u001b[0m\u001b[1;33m\u001b[0m\u001b[1;33m\u001b[0m\u001b[0m\n\u001b[0m\u001b[0;32m   1030\u001b[0m         \u001b[0mminor_labels\u001b[0m \u001b[1;33m=\u001b[0m \u001b[0mself\u001b[0m\u001b[1;33m.\u001b[0m\u001b[0mminor\u001b[0m\u001b[1;33m.\u001b[0m\u001b[0mformatter\u001b[0m\u001b[1;33m.\u001b[0m\u001b[0mformat_ticks\u001b[0m\u001b[1;33m(\u001b[0m\u001b[0mminor_locs\u001b[0m\u001b[1;33m)\u001b[0m\u001b[1;33m\u001b[0m\u001b[1;33m\u001b[0m\u001b[0m\n\u001b[0;32m   1031\u001b[0m         \u001b[0mminor_ticks\u001b[0m \u001b[1;33m=\u001b[0m \u001b[0mself\u001b[0m\u001b[1;33m.\u001b[0m\u001b[0mget_minor_ticks\u001b[0m\u001b[1;33m(\u001b[0m\u001b[0mlen\u001b[0m\u001b[1;33m(\u001b[0m\u001b[0mminor_locs\u001b[0m\u001b[1;33m)\u001b[0m\u001b[1;33m)\u001b[0m\u001b[1;33m\u001b[0m\u001b[1;33m\u001b[0m\u001b[0m\n",
      "\u001b[1;32m~\\Anaconda3\\envs\\tf_gpu\\lib\\site-packages\\matplotlib\\axis.py\u001b[0m in \u001b[0;36mget_minorticklocs\u001b[1;34m(self)\u001b[0m\n\u001b[0;32m   1286\u001b[0m         \u001b[1;34m\"\"\"Return this Axis' minor tick locations in data coordinates.\"\"\"\u001b[0m\u001b[1;33m\u001b[0m\u001b[1;33m\u001b[0m\u001b[0m\n\u001b[0;32m   1287\u001b[0m         \u001b[1;31m# Remove minor ticks duplicating major ticks.\u001b[0m\u001b[1;33m\u001b[0m\u001b[1;33m\u001b[0m\u001b[1;33m\u001b[0m\u001b[0m\n\u001b[1;32m-> 1288\u001b[1;33m         \u001b[0mmajor_locs\u001b[0m \u001b[1;33m=\u001b[0m \u001b[0mself\u001b[0m\u001b[1;33m.\u001b[0m\u001b[0mmajor\u001b[0m\u001b[1;33m.\u001b[0m\u001b[0mlocator\u001b[0m\u001b[1;33m(\u001b[0m\u001b[1;33m)\u001b[0m\u001b[1;33m\u001b[0m\u001b[1;33m\u001b[0m\u001b[0m\n\u001b[0m\u001b[0;32m   1289\u001b[0m         \u001b[0mminor_locs\u001b[0m \u001b[1;33m=\u001b[0m \u001b[0mself\u001b[0m\u001b[1;33m.\u001b[0m\u001b[0mminor\u001b[0m\u001b[1;33m.\u001b[0m\u001b[0mlocator\u001b[0m\u001b[1;33m(\u001b[0m\u001b[1;33m)\u001b[0m\u001b[1;33m\u001b[0m\u001b[1;33m\u001b[0m\u001b[0m\n\u001b[0;32m   1290\u001b[0m         \u001b[0mtransform\u001b[0m \u001b[1;33m=\u001b[0m \u001b[0mself\u001b[0m\u001b[1;33m.\u001b[0m\u001b[0m_scale\u001b[0m\u001b[1;33m.\u001b[0m\u001b[0mget_transform\u001b[0m\u001b[1;33m(\u001b[0m\u001b[1;33m)\u001b[0m\u001b[1;33m\u001b[0m\u001b[1;33m\u001b[0m\u001b[0m\n",
      "\u001b[1;32m~\\Anaconda3\\envs\\tf_gpu\\lib\\site-packages\\matplotlib\\ticker.py\u001b[0m in \u001b[0;36m__call__\u001b[1;34m(self)\u001b[0m\n\u001b[0;32m   2274\u001b[0m     \u001b[1;32mdef\u001b[0m \u001b[0m__call__\u001b[0m\u001b[1;33m(\u001b[0m\u001b[0mself\u001b[0m\u001b[1;33m)\u001b[0m\u001b[1;33m:\u001b[0m\u001b[1;33m\u001b[0m\u001b[1;33m\u001b[0m\u001b[0m\n\u001b[0;32m   2275\u001b[0m         \u001b[0mvmin\u001b[0m\u001b[1;33m,\u001b[0m \u001b[0mvmax\u001b[0m \u001b[1;33m=\u001b[0m \u001b[0mself\u001b[0m\u001b[1;33m.\u001b[0m\u001b[0maxis\u001b[0m\u001b[1;33m.\u001b[0m\u001b[0mget_view_interval\u001b[0m\u001b[1;33m(\u001b[0m\u001b[1;33m)\u001b[0m\u001b[1;33m\u001b[0m\u001b[1;33m\u001b[0m\u001b[0m\n\u001b[1;32m-> 2276\u001b[1;33m         \u001b[1;32mreturn\u001b[0m \u001b[0mself\u001b[0m\u001b[1;33m.\u001b[0m\u001b[0mtick_values\u001b[0m\u001b[1;33m(\u001b[0m\u001b[0mvmin\u001b[0m\u001b[1;33m,\u001b[0m \u001b[0mvmax\u001b[0m\u001b[1;33m)\u001b[0m\u001b[1;33m\u001b[0m\u001b[1;33m\u001b[0m\u001b[0m\n\u001b[0m\u001b[0;32m   2277\u001b[0m \u001b[1;33m\u001b[0m\u001b[0m\n\u001b[0;32m   2278\u001b[0m     \u001b[1;32mdef\u001b[0m \u001b[0mtick_values\u001b[0m\u001b[1;33m(\u001b[0m\u001b[0mself\u001b[0m\u001b[1;33m,\u001b[0m \u001b[0mvmin\u001b[0m\u001b[1;33m,\u001b[0m \u001b[0mvmax\u001b[0m\u001b[1;33m)\u001b[0m\u001b[1;33m:\u001b[0m\u001b[1;33m\u001b[0m\u001b[1;33m\u001b[0m\u001b[0m\n",
      "\u001b[1;32m~\\Anaconda3\\envs\\tf_gpu\\lib\\site-packages\\matplotlib\\ticker.py\u001b[0m in \u001b[0;36mtick_values\u001b[1;34m(self, vmin, vmax)\u001b[0m\n\u001b[0;32m   2282\u001b[0m         vmin, vmax = mtransforms.nonsingular(\n\u001b[0;32m   2283\u001b[0m             vmin, vmax, expander=1e-13, tiny=1e-14)\n\u001b[1;32m-> 2284\u001b[1;33m         \u001b[0mlocs\u001b[0m \u001b[1;33m=\u001b[0m \u001b[0mself\u001b[0m\u001b[1;33m.\u001b[0m\u001b[0m_raw_ticks\u001b[0m\u001b[1;33m(\u001b[0m\u001b[0mvmin\u001b[0m\u001b[1;33m,\u001b[0m \u001b[0mvmax\u001b[0m\u001b[1;33m)\u001b[0m\u001b[1;33m\u001b[0m\u001b[1;33m\u001b[0m\u001b[0m\n\u001b[0m\u001b[0;32m   2285\u001b[0m \u001b[1;33m\u001b[0m\u001b[0m\n\u001b[0;32m   2286\u001b[0m         \u001b[0mprune\u001b[0m \u001b[1;33m=\u001b[0m \u001b[0mself\u001b[0m\u001b[1;33m.\u001b[0m\u001b[0m_prune\u001b[0m\u001b[1;33m\u001b[0m\u001b[1;33m\u001b[0m\u001b[0m\n",
      "\u001b[1;32m~\\Anaconda3\\envs\\tf_gpu\\lib\\site-packages\\matplotlib\\ticker.py\u001b[0m in \u001b[0;36m_raw_ticks\u001b[1;34m(self, vmin, vmax)\u001b[0m\n\u001b[0;32m   2265\u001b[0m             \u001b[0mlow\u001b[0m \u001b[1;33m=\u001b[0m \u001b[0medge\u001b[0m\u001b[1;33m.\u001b[0m\u001b[0mle\u001b[0m\u001b[1;33m(\u001b[0m\u001b[0m_vmin\u001b[0m \u001b[1;33m-\u001b[0m \u001b[0mbest_vmin\u001b[0m\u001b[1;33m)\u001b[0m\u001b[1;33m\u001b[0m\u001b[1;33m\u001b[0m\u001b[0m\n\u001b[0;32m   2266\u001b[0m             \u001b[0mhigh\u001b[0m \u001b[1;33m=\u001b[0m \u001b[0medge\u001b[0m\u001b[1;33m.\u001b[0m\u001b[0mge\u001b[0m\u001b[1;33m(\u001b[0m\u001b[0m_vmax\u001b[0m \u001b[1;33m-\u001b[0m \u001b[0mbest_vmin\u001b[0m\u001b[1;33m)\u001b[0m\u001b[1;33m\u001b[0m\u001b[1;33m\u001b[0m\u001b[0m\n\u001b[1;32m-> 2267\u001b[1;33m             \u001b[0mticks\u001b[0m \u001b[1;33m=\u001b[0m \u001b[0mnp\u001b[0m\u001b[1;33m.\u001b[0m\u001b[0marange\u001b[0m\u001b[1;33m(\u001b[0m\u001b[0mlow\u001b[0m\u001b[1;33m,\u001b[0m \u001b[0mhigh\u001b[0m \u001b[1;33m+\u001b[0m \u001b[1;36m1\u001b[0m\u001b[1;33m)\u001b[0m \u001b[1;33m*\u001b[0m \u001b[0mstep\u001b[0m \u001b[1;33m+\u001b[0m \u001b[0mbest_vmin\u001b[0m\u001b[1;33m\u001b[0m\u001b[1;33m\u001b[0m\u001b[0m\n\u001b[0m\u001b[0;32m   2268\u001b[0m             \u001b[1;31m# Count only the ticks that will be displayed.\u001b[0m\u001b[1;33m\u001b[0m\u001b[1;33m\u001b[0m\u001b[1;33m\u001b[0m\u001b[0m\n\u001b[0;32m   2269\u001b[0m             \u001b[0mnticks\u001b[0m \u001b[1;33m=\u001b[0m \u001b[1;33m(\u001b[0m\u001b[1;33m(\u001b[0m\u001b[0mticks\u001b[0m \u001b[1;33m<=\u001b[0m \u001b[0m_vmax\u001b[0m\u001b[1;33m)\u001b[0m \u001b[1;33m&\u001b[0m \u001b[1;33m(\u001b[0m\u001b[0mticks\u001b[0m \u001b[1;33m>=\u001b[0m \u001b[0m_vmin\u001b[0m\u001b[1;33m)\u001b[0m\u001b[1;33m)\u001b[0m\u001b[1;33m.\u001b[0m\u001b[0msum\u001b[0m\u001b[1;33m(\u001b[0m\u001b[1;33m)\u001b[0m\u001b[1;33m\u001b[0m\u001b[1;33m\u001b[0m\u001b[0m\n",
      "\u001b[1;31mKeyboardInterrupt\u001b[0m: "
     ]
    }
   ],
   "source": [
    "from IPython.display import clear_output\n",
    "\n",
    "epochs = 2000 # число эпох \n",
    "\n",
    "ass = [a.numpy()[0]] # стартовые точки \n",
    "bss = [b.numpy()[0]] \n",
    "\n",
    "for i in range(epochs):\n",
    "    # Делаем щаг градиентного спуска \n",
    "    model_train(celsius, fahrenheit)\n",
    "    \n",
    "    if i%25 == 0:\n",
    "        # Пополняем запас точек \n",
    "        ass.append(a.numpy()[0])\n",
    "        bss.append(b.numpy()[0])\n",
    "\n",
    "        clear_output(True) # чтобы всё на одной картинке рисовалось, а не на милионе\n",
    "        plt.plot(ass, bss, marker='.')\n",
    "        plt.scatter(32, 1.8, c='red')\n",
    "        plt.show()\n",
    "        \n",
    "        \n",
    "        \n",
    "        \n",
    "        \n",
    "        "
   ]
  },
  {
   "cell_type": "markdown",
   "metadata": {},
   "source": [
    "### Задание 5:\n",
    "\n",
    "Реализуйте для функции \n",
    "\n",
    "$$\n",
    "f(w) = \\prod_{i,j} \\ln(\\ln(w_{ij} + 7) \n",
    "$$\n",
    "\n",
    "процедуру градиентного спуска. Каким получилось минимальное значение? "
   ]
  },
  {
   "cell_type": "code",
   "execution_count": null,
   "metadata": {},
   "outputs": [],
   "source": [
    "# Ваше решение"
   ]
  },
  {
   "cell_type": "markdown",
   "metadata": {},
   "source": [
    "------------------------------------------"
   ]
  },
  {
   "cell_type": "markdown",
   "metadata": {},
   "source": [
    "Можно попробовать поразвлекаться с разными методами оптимизации! \n",
    "\n",
    "* На вход модели при обучении мы сейчас подавали нумпаевские вектора. В будущем мы будем смотреть и на разные другие способы скармливать модели данные."
   ]
  },
  {
   "cell_type": "markdown",
   "metadata": {},
   "source": [
    "# 5. Нейронка на Tensorflow \n",
    "\n",
    "Пришло время страдать. Чтобы пострадать как следует, вы получаете задание --- построить свою первую нейросеть в tensorflow. __Спойлер:__ cильнее вего вы будете страдать от того, что размерности матриц не сходятся. Осторожнее с этим. \n",
    "\n",
    "Раньше все учили свою первую нейросеть на [наборе рукопистных цифр MNIST.](http://yann.lecun.com/exdb/mnist/) Теперь это не модно. Если где-то кто-то будет проводить у вас семинар с участием этого датасета, так и скажите ему: __это не модно!__  Хлопать дверью или нет --- на ваше усмотрение. \n",
    "\n",
    "На арене туториалов новый король: [Fashion MNIST.](https://www.tensorflow.org/tutorials/keras/classification) По ссылке лежит туториал с строительством нейросетки на этом наборе, но с участием Keras. Мы пока что обойдёмся без него."
   ]
  },
  {
   "cell_type": "code",
   "execution_count": null,
   "metadata": {},
   "outputs": [],
   "source": [
    "fashion_mnist = tf.keras.datasets.fashion_mnist\n",
    "(X_train, y_train), (X_test, y_test) = fashion_mnist.load_data()"
   ]
  },
  {
   "cell_type": "code",
   "execution_count": null,
   "metadata": {},
   "outputs": [],
   "source": [
    "X_train.shape, X_test.shape"
   ]
  },
  {
   "cell_type": "code",
   "execution_count": null,
   "metadata": {},
   "outputs": [],
   "source": [
    "class_names = ['T-shirt/top', 'Trouser', 'Pullover', 'Dress', 'Coat',\n",
    "               'Sandal', 'Shirt', 'Sneaker', 'Bag', 'Ankle boot']"
   ]
  },
  {
   "cell_type": "markdown",
   "metadata": {},
   "source": [
    "Нарисуем несколько рандомных картинок из тренировочной выборки. "
   ]
  },
  {
   "cell_type": "code",
   "execution_count": null,
   "metadata": {},
   "outputs": [],
   "source": [
    "cols = 8\n",
    "rows = 2\n",
    "fig = plt.figure(figsize=(2 * cols, 2.5 * rows))\n",
    "for i in range(cols):\n",
    "    for j in range(rows):\n",
    "        random_index = np.random.randint(0, len(y_train))\n",
    "        ax = fig.add_subplot(rows, cols, i * rows + j + 1)\n",
    "        ax.grid(False)\n",
    "        ax.set_xticks([])\n",
    "        ax.set_yticks([])\n",
    "        ax.imshow(X_train[random_index, :], cmap = 'gray')\n",
    "        ax.set_xlabel(class_names[y_train[random_index]])\n",
    "plt.show()"
   ]
  },
  {
   "cell_type": "markdown",
   "metadata": {},
   "source": [
    "Каждая картинка это матрица из чисел. Если число большое - пиксель яркий. Если маленькое - тёмный. Яркость измеряется по шкале от $0$ до $255$."
   ]
  },
  {
   "cell_type": "code",
   "execution_count": null,
   "metadata": {},
   "outputs": [],
   "source": [
    "X_train"
   ]
  },
  {
   "cell_type": "markdown",
   "metadata": {},
   "source": [
    "Картинка - матрица. "
   ]
  },
  {
   "cell_type": "code",
   "execution_count": null,
   "metadata": {},
   "outputs": [],
   "source": [
    "X_train[0].shape"
   ]
  },
  {
   "cell_type": "markdown",
   "metadata": {},
   "source": [
    "Давайте отнормируем выборку. "
   ]
  },
  {
   "cell_type": "code",
   "execution_count": null,
   "metadata": {},
   "outputs": [],
   "source": [
    "X_train = X_train/255\n",
    "X_test = X_test/255"
   ]
  },
  {
   "cell_type": "markdown",
   "metadata": {},
   "source": [
    "Будем прогнозировать тип картинки по её пикселям. Давайте растянем её в вектор из $28 \\times 28$ фичей."
   ]
  },
  {
   "cell_type": "code",
   "execution_count": null,
   "metadata": {},
   "outputs": [],
   "source": [
    "X_train = X_train.reshape(X_train.shape[0], 28**2)\n",
    "X_test = X_test.reshape(X_test.shape[0], 28**2)\n",
    "X_train.shape"
   ]
  },
  {
   "cell_type": "markdown",
   "metadata": {},
   "source": [
    "Поставим для данных тип, чтобы ничего не поломалось."
   ]
  },
  {
   "cell_type": "code",
   "execution_count": null,
   "metadata": {},
   "outputs": [],
   "source": [
    "X_train = X_train.astype(np.float32)\n",
    "X_test = X_test.astype(np.float32)"
   ]
  },
  {
   "cell_type": "markdown",
   "metadata": {},
   "source": [
    "У нас в задаче фигурирует $10$ классов. Последним слоем в сетке будет Softmax. Не забудьте сделать OHE, когда будете описывать функцию потерь. "
   ]
  },
  {
   "cell_type": "code",
   "execution_count": null,
   "metadata": {},
   "outputs": [],
   "source": [
    "tf.keras.utils.to_categorical(y_train)"
   ]
  },
  {
   "cell_type": "code",
   "execution_count": null,
   "metadata": {},
   "outputs": [],
   "source": [
    "y_train = tf.keras.utils.to_categorical(y_train)\n",
    "y_test = tf.keras.utils.to_categorical(y_test)"
   ]
  },
  {
   "cell_type": "markdown",
   "metadata": {},
   "source": [
    "## Задание 6\n",
    "\n",
    "Для начала обучим однослойною модель. Задайте её архитектуру и напишите функцию для прогнозирования. "
   ]
  },
  {
   "cell_type": "code",
   "execution_count": null,
   "metadata": {},
   "outputs": [],
   "source": [
    "num_classes = 10   # число классов\n",
    "num_features = 784 # число фичей (28*28 пикселей)\n",
    "\n",
    "# Задайте переменные W и b :) \n",
    "\n",
    "# прогнозы\n",
    "def logistic_regression(X):\n",
    "    # ваша модель\n",
    "    return result"
   ]
  },
  {
   "cell_type": "code",
   "execution_count": null,
   "metadata": {},
   "outputs": [],
   "source": [
    "p_pred = logistic_regression(X_train[:3])\n",
    "p_pred"
   ]
  },
  {
   "cell_type": "markdown",
   "metadata": {},
   "source": [
    "Отлично! Теперь давайте реализуем функцию потерь. Использовать будем logloss. Ещё не забыли как его искать? "
   ]
  },
  {
   "cell_type": "code",
   "execution_count": null,
   "metadata": {},
   "outputs": [],
   "source": [
    "def logloss(p_pred, y_true):\n",
    "    # Чтобы не возникло log(0) и бесконечностей\n",
    "    p_pred = tf.clip_by_value(p_pred, 1e-9, 1.)\n",
    "    # а теперь считаем\n",
    "    return -tf.reduce_mean(tf.reduce_sum(y_true * tf.math.log(p_pred), axis=1)) "
   ]
  },
  {
   "cell_type": "markdown",
   "metadata": {},
   "source": [
    "Чтобы избежать проблем с бесконечностями, обычно logloss считают по-другому, с помощью функции tf.nn.softmax_cross_entropy_with_logits. Откуда берутся проблемы в виде бесконечностей в softmax либо посмотрите во второй лекции, либо в Николенко на страницах  133−135."
   ]
  },
  {
   "cell_type": "code",
   "execution_count": null,
   "metadata": {},
   "outputs": [],
   "source": [
    "p_pred = logistic_regression(X_train)\n",
    "logloss(p_pred, y_train)"
   ]
  },
  {
   "cell_type": "markdown",
   "metadata": {},
   "source": [
    "На каждой итерации будем искать accuracy. Напишите функцию, чтобы его искать. "
   ]
  },
  {
   "cell_type": "code",
   "execution_count": null,
   "metadata": {},
   "outputs": [],
   "source": [
    "def accuracy(y_pred, y_true):\n",
    "    # Ваша реализация точности\n",
    "    return acc"
   ]
  },
  {
   "cell_type": "code",
   "execution_count": null,
   "metadata": {},
   "outputs": [],
   "source": [
    "accuracy(p_pred, y_train)"
   ]
  },
  {
   "cell_type": "markdown",
   "metadata": {},
   "source": [
    "Задаём оптимизатор"
   ]
  },
  {
   "cell_type": "code",
   "execution_count": null,
   "metadata": {},
   "outputs": [],
   "source": [
    "learning_rate = 1e-4\n",
    "optimizer = tf.optimizers.Adam(learning_rate)"
   ]
  },
  {
   "cell_type": "markdown",
   "metadata": {},
   "source": [
    "Задаём один шаг обучения"
   ]
  },
  {
   "cell_type": "code",
   "execution_count": null,
   "metadata": {},
   "outputs": [],
   "source": [
    "def model_train(X, Y):\n",
    "\n",
    "# Считаем градиенты\n",
    "    \n",
    "    # Обновляем веса a и b в ходе одной итерации спуска \n",
    "    optimizer.apply_gradients(zip(gradients, [W, b]))\n",
    "    pass"
   ]
  },
  {
   "cell_type": "code",
   "execution_count": null,
   "metadata": {},
   "outputs": [],
   "source": [
    "W"
   ]
  },
  {
   "cell_type": "code",
   "execution_count": null,
   "metadata": {},
   "outputs": [],
   "source": [
    "# Работает ли?\n",
    "model_train(X_train, y_train)"
   ]
  },
  {
   "cell_type": "code",
   "execution_count": null,
   "metadata": {},
   "outputs": [],
   "source": [
    "W"
   ]
  },
  {
   "cell_type": "markdown",
   "metadata": {},
   "source": [
    "Остался только этап для обучения модели. Напишем функцию, которая будет генерировать из наших данных батчи. Одна эпоха - один проход модели по всем батчам. Один батч - совокупность наблюдений.  В этом может помочь [специальный класс для создания батчей, Dataset.](https://www.tensorflow.org/api_docs/python/tf/data/Dataset)"
   ]
  },
  {
   "cell_type": "code",
   "execution_count": null,
   "metadata": {},
   "outputs": [],
   "source": [
    "# создали объект с данными для обучения \n",
    "train_data = tf.data.Dataset.from_tensor_slices((X_train, y_train))\n",
    "\n",
    "# перемешали данные с окном в 5000 и сделали кучу батчей размера 512 \n",
    "train_data = train_data.shuffle(5000).batch(512)"
   ]
  },
  {
   "cell_type": "markdown",
   "metadata": {},
   "source": [
    "Напишем небольшую функцию для визуализации процедуры обучения. "
   ]
  },
  {
   "cell_type": "code",
   "execution_count": null,
   "metadata": {},
   "outputs": [],
   "source": [
    "from IPython import display\n",
    "\n",
    "def visualize(l1,l2, h1, h2):\n",
    "    plt.figure(figsize=(20,5)) \n",
    "    epo_range = range(1,len(h1)+1)\n",
    "    tick_range = range(1,len(h1)+1,2)\n",
    "    plt.subplot(1,2,1)\n",
    "    plt.title('Learning loss')\n",
    "    plt.plot(epo_range,l1, label='train set')\n",
    "    plt.plot(epo_range,l2, label='valid set')\n",
    "    plt.grid()\n",
    "    plt.xticks(tick_range)\n",
    "    plt.legend(title = 'Loss at:')\n",
    "    \n",
    "    plt.subplot(1,2,2)\n",
    "    plt.title('Learning accuracy')\n",
    "    plt.plot(epo_range,h1, label='train set')\n",
    "    plt.plot(epo_range,h2, label='valid set')\n",
    "    plt.grid()\n",
    "    plt.xticks(tick_range)\n",
    "    plt.ylim(0, 1.)\n",
    "    plt.legend(title = 'Accuracy at:')\n",
    "    \n",
    "    display.clear_output(wait=True)\n",
    "    plt.show()"
   ]
  },
  {
   "cell_type": "markdown",
   "metadata": {},
   "source": [
    "Обучаем модель! "
   ]
  },
  {
   "cell_type": "code",
   "execution_count": null,
   "metadata": {},
   "outputs": [],
   "source": [
    "epochs = 100           # число эпох \n",
    "training_steps = 1000  # сколько раз на эпохе теребить генератор батчей\n",
    "\n",
    "# Вектора для метрик\n",
    "loss_test, loss_train  = [ ], [ ] \n",
    "acc_test, acc_train = [ ], [ ]\n",
    "\n",
    "for i in range(epochs):\n",
    "    \n",
    "    # Проходимся по всем батчам\n",
    "    for batch_x, batch_y in train_data.take(training_steps):\n",
    "        \n",
    "        # Делаем щаг градиентного спуска \n",
    "        ### Ваш код для шага на текущем батче\n",
    "\n",
    "        ########################\n",
    "    \n",
    "    # в конце эпохи считаем метрики\n",
    "    p_train = logistic_regression(X_train)\n",
    "    p_test = logistic_regression(X_test)\n",
    "    \n",
    "    loss_train.append(logloss(p_train, y_train))\n",
    "    loss_test.append(logloss(p_test, y_test))\n",
    "    \n",
    "    acc_train.append(accuracy(p_train, y_train))\n",
    "    acc_test.append(accuracy(p_test, y_test))\n",
    "    \n",
    "    # визуализируем\n",
    "    visualize(loss_train, loss_test, acc_train, acc_test) "
   ]
  },
  {
   "cell_type": "markdown",
   "metadata": {},
   "source": [
    "Делать такие визуализации для больших нейронок и большого количества эпох не лучшая идея, но так как мы только учимся и хотим красивых картинок, то мы можем себе это позволить. __Отдельно обратите внимание,__ что TensorFlow очень чуствительна к размерностям. Например, чтобы работала функция `matmul`, нужно подать ей на вход обязательно матрицы. Даже если это матрица размера $1 \\times 1$."
   ]
  },
  {
   "cell_type": "markdown",
   "metadata": {},
   "source": [
    "## Задание 7\n",
    "\n",
    "Переделайте свою логистическую регрессию в двухслойную нейросетку. В качестве функции активации возьмите что угодно. Функцию, где будет реализована модель назовите `our_nn`."
   ]
  },
  {
   "cell_type": "code",
   "execution_count": null,
   "metadata": {},
   "outputs": [],
   "source": [
    "# Ваш код"
   ]
  },
  {
   "cell_type": "markdown",
   "metadata": {},
   "source": [
    "Обучаем модель!"
   ]
  },
  {
   "cell_type": "code",
   "execution_count": null,
   "metadata": {},
   "outputs": [],
   "source": [
    "epochs = 100           # число эпох \n",
    "training_steps = 1000  # сколько раз на эпохе теребить генератор батчей\n",
    "\n",
    "# Вектора для метрик\n",
    "loss_test, loss_train  = [ ], [ ] \n",
    "acc_test, acc_train = [ ], [ ]\n",
    "\n",
    "for i in range(epochs):\n",
    "    \n",
    "    # Проходимся по всем батчам\n",
    "    for batch_x, batch_y in train_data.take(training_steps):\n",
    "        \n",
    "        # Делаем щаг градиентного спуска \n",
    "        model_train(batch_x, batch_y)\n",
    "    \n",
    "    p_train = our_nn(X_train)\n",
    "    p_test = our_nn(X_test)\n",
    "    \n",
    "    loss_train.append(logloss(p_train, y_train))\n",
    "    loss_test.append(logloss(p_test, y_test))\n",
    "    \n",
    "    acc_train.append(accuracy(p_train, y_train))\n",
    "    acc_test.append(accuracy(p_test, y_test))\n",
    "    \n",
    "    # визуализируем\n",
    "    visualize(loss_train, loss_test, acc_train, acc_test) "
   ]
  },
  {
   "cell_type": "markdown",
   "metadata": {},
   "source": [
    "# Вместо итога.\n",
    "\n",
    "__Но... Но... Но... Намного проще собрать это в Keras! Зачем нам страдать?__\n",
    "\n",
    "Дело в том, что Keras лишь надстройка над tensorflow. По факту все слои, написанные для Keras - это замаскированный tensorflow. Более того, даже сетку, написанную на Keras можно обучать таким вот незатейливым циклом, как у нас. Иногда так намного проще проверять свои идеи. \n",
    "\n",
    "* Например, в прошлый раз мы с вами пытались мень скорость обучения сетки с помощью колбэков прямо в процессе обучения. Это было довольно неприятно и код был неочевидным. Если описывать процедуру обучения в виде цикла, работать становится проще.  В Tensorflow проще делать довольно много разных вещей, а также проще реализовывать и проверять какие-то свои идеи. \n",
    "* В том числе на Tensorflow можно писать новые слои для Keras и встраивать их в свои сетки. Этим мы тоже с вами позанимаемся."
   ]
  },
  {
   "cell_type": "markdown",
   "metadata": {},
   "source": [
    "# N+1. Как Tensorflow работал раньше \n",
    "\n",
    "Больше такой код не надо писать никогда и нигде. Если видите его в туториалах в интернете, сразу закрывайте их. Эти туториалы устарели. Можете попробовать подуть на них (сдуть слой пыли), а дальше попробовать самостоятельно переписать старый код на новый. Это неплохое упражнение :) "
   ]
  },
  {
   "cell_type": "code",
   "execution_count": null,
   "metadata": {},
   "outputs": [],
   "source": [
    "import tensorflow.compat.v1 as tf  # подгружаем первую версию библиотеки \n",
    "tf.disable_v2_behavior()           # отключаем функционал второй \n",
    "                                   # теперь код, написанный на версии tf 1.x должен работать \n",
    "tf.__version__"
   ]
  },
  {
   "cell_type": "markdown",
   "metadata": {},
   "source": [
    "Раньше сначала надо было задать структуру вычислений с помощью тензоров. "
   ]
  },
  {
   "cell_type": "code",
   "execution_count": null,
   "metadata": {},
   "outputs": [],
   "source": [
    "# что происходило в первой версии \n",
    "a = tf.constant([1, 2])\n",
    "b = tf.constant([3, 4])\n",
    "\n",
    "print(a + b)"
   ]
  },
  {
   "cell_type": "markdown",
   "metadata": {},
   "source": [
    "Результат на лету было увидеть нельзя. "
   ]
  },
  {
   "cell_type": "code",
   "execution_count": null,
   "metadata": {},
   "outputs": [],
   "source": [
    "c = a + b\n",
    "c"
   ]
  },
  {
   "cell_type": "markdown",
   "metadata": {},
   "source": [
    "Если хотелось результата, надо было запускать вычислительную сессию, которая прогоняла все данные через граф."
   ]
  },
  {
   "cell_type": "code",
   "execution_count": null,
   "metadata": {},
   "outputs": [],
   "source": [
    "# открываем вычислительную сессию \n",
    "with tf.Session() as sess:\n",
    "    print(sess.run(c))"
   ]
  },
  {
   "cell_type": "code",
   "execution_count": null,
   "metadata": {},
   "outputs": [],
   "source": [
    "# либо можно было открыть глобальную сессию \n",
    "sess = tf.InteractiveSession()\n",
    "c.eval()"
   ]
  },
  {
   "cell_type": "code",
   "execution_count": 2,
   "metadata": {},
   "outputs": [
    {
     "data": {
      "text/plain": [
       "0.003762897827421623"
      ]
     },
     "execution_count": 2,
     "metadata": {},
     "output_type": "execute_result"
    }
   ],
   "source": [
    "190/50493"
   ]
  },
  {
   "cell_type": "markdown",
   "metadata": {},
   "source": [
    "Процедура обучения модели выглядела раньше иначе. Кроме переменных в обучении участие принимал ещё один объект, `placeholder`. \n",
    "\n",
    "* __placeholder__ — место в графе, которое может принимать входные параметры в граф извне. В эти места мы будем вставлять наши данные"
   ]
  },
  {
   "cell_type": "code",
   "execution_count": null,
   "metadata": {},
   "outputs": [],
   "source": [
    "epochs = 10\n",
    "\n",
    "# плейсхолдеры для данных \n",
    "# \"Я обещаю вставить сюда x и y позже\"\n",
    "x = tf.placeholder(tf.float32)\n",
    "y = tf.placeholder(tf.float32)\n",
    "\n",
    "# параметры модели \n",
    "a = tf.Variable(tf.zeros([1]), name='bias')\n",
    "b = tf.Variable(tf.zeros([1]), name='k')\n",
    "\n",
    "# модель \n",
    "y_hat = b*x + a\n",
    "\n",
    "# функция потерь и метод оптимизации\n",
    "loss = tf.sqrt(tf.reduce_sum((y - y_hat)**2))\n",
    "opt = tf.train.AdamOptimizer(learning_rate = 0.1)\n",
    "\n",
    "# из-за того, что не было динамических вычислений, \n",
    "# было проще с градиентами\n",
    "step = opt.minimize(loss)\n",
    "\n",
    "# Но зато было сложнее с процедурой обучения, надо было запускать ... сессии\n",
    "# открываем вычислительную сессию \n",
    "with tf.Session() as sess:\n",
    "    \n",
    "    # инициализировали все переменные \n",
    "    tf.global_variables_initializer().run() \n",
    "    \n",
    "    for i in range(epochs):\n",
    "        \n",
    "        # Дорогая сессия, вычисли мне результат функции потерь, пожалуйста! Вот тебе конкретные x и y! \n",
    "        cur_loss = sess.run(loss, feed_dict={x:celsius, y:fahrenheit})\n",
    "        print('Текущие потери:', cur_loss)\n",
    "        \n",
    "        # шаг оптимизации \n",
    "        sess.run(step, feed_dict={x:celsius, y:fahrenheit})\n",
    "        \n",
    "    print('\\nКоэффициенты:', a.eval()[0], b.eval()[0])\n",
    "    print('Прогнозы:', sess.run(y_hat, feed_dict={x:[-40,0,38]}))"
   ]
  },
  {
   "cell_type": "markdown",
   "metadata": {},
   "source": [
    "## Почиташки\n",
    "\n",
    "* [Эффективный tensorflow 2.0](https://www.tensorflow.org/guide/effective_tf2)\n",
    "* [Простые примеры кода на tensorflow 2.0](https://github.com/aymericdamien/TensorFlow-Examples/tree/master/tensorflow_v2)\n",
    "* [Очень-очень милая презентация про fashion mnist](https://github.com/fbchow/fashion-mnist-tensorflow/blob/master/ml-fashion-mnist-presentation.pdf)\n",
    "\n",
    "\n",
    "__Немного старья:__\n",
    "\n",
    "* [Введение в старую версию Tensorflow на Хабре](https://habrahabr.ru/company/ods/blog/324898/)\n",
    "* [Введение в старый Tensorflow от ШАД,](https://nbviewer.jupyter.org/github/yandexdataschool/Practical_DL/blob/fall18/week02_autodiff/seminar_tensorflow.ipynb) моя тетрадка частично основана на этой тетрадке, хоть сходство на первый взгляд и не заметно. \n",
    "* [Неплохая подборка разных тетрадок](https://github.com/Hvass-Labs/TensorFlow-Tutorials) на старом tensorflow"
   ]
  }
 ],
 "metadata": {
  "kernelspec": {
   "display_name": "tf_gpu",
   "language": "python",
   "name": "tf_gpu"
  },
  "language_info": {
   "codemirror_mode": {
    "name": "ipython",
    "version": 3
   },
   "file_extension": ".py",
   "mimetype": "text/x-python",
   "name": "python",
   "nbconvert_exporter": "python",
   "pygments_lexer": "ipython3",
   "version": "3.7.9"
  }
 },
 "nbformat": 4,
 "nbformat_minor": 2
}
